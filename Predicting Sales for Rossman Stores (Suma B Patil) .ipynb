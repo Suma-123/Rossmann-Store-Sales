{
  "nbformat": 4,
  "nbformat_minor": 0,
  "metadata": {
    "colab": {
      "name": "Insofe Hackathon.ipynb",
      "provenance": [],
      "collapsed_sections": []
    },
    "kernelspec": {
      "name": "python3",
      "display_name": "Python 3"
    }
  },
  "cells": [
    {
      "cell_type": "markdown",
      "metadata": {
        "id": "lv4oogbhXG8D",
        "colab_type": "text"
      },
      "source": [
        "### Rossmann Store Sales"
      ]
    },
    {
      "cell_type": "markdown",
      "metadata": {
        "id": "9jIhkB1OYV3g",
        "colab_type": "text"
      },
      "source": [
        "#### Problem Description (Forecast sales using store, promotion, and competitor data)"
      ]
    },
    {
      "cell_type": "markdown",
      "metadata": {
        "id": "5S5UJWOcYcyH",
        "colab_type": "text"
      },
      "source": [
        "\n",
        "Rossmann operates over 3,000 drug stores in 7 European countries. Currently, Rossmann store managers are tasked with predicting their daily sales for up to six weeks in advance. Store sales are influenced by many factors, including promotions, competition, school and state holidays, seasonality, and locality. With thousands of individual managers predicting sales based on their unique circumstances, the accuracy of results can be quite varied."
      ]
    },
    {
      "cell_type": "markdown",
      "metadata": {
        "id": "fzRBJcrfYkIt",
        "colab_type": "text"
      },
      "source": [
        "#### Attributes Information"
      ]
    },
    {
      "cell_type": "markdown",
      "metadata": {
        "id": "BgqJqSwbY8f-",
        "colab_type": "text"
      },
      "source": [
        "1. Id - an Id that represents a (Store, Date) duple within the test set\n",
        "2. Store - a unique Id for each store\n",
        "3. Sales - the turnover for any given day (this is what you are predicting)\n",
        "4. Customers - the number of customers on a given day\n",
        "5. Open - an indicator for whether the store was open: 0 = closed, 1 = open\n",
        "6. StateHoliday - indicates a state holiday. Normally all stores, with few exceptions, are closed on state holidays. Note that all schools are closed on public holidays and weekends. a = public holiday, b = Easter holiday, c = Christmas, 0 = None\n",
        "7. SchoolHoliday - indicates if the (Store, Date) was affected by the closure of public schools\n",
        "8. StoreType - differentiates between 4 different store models: a, b, c, d\n",
        "9. Assortment - describes an assortment level: a = basic, b = extra, c = extended\n",
        "10. CompetitionDistance - distance in meters to the nearest competitor store\n",
        "11. CompetitionOpenSince[Month/Year] - gives the approximate year and month of the time the nearest competitor was opened\n",
        "12. Promo - indicates whether a store is running a promo on that day\n",
        "13. Promo2 - Promo2 is a continuing and consecutive promotion for some stores: 0 = store is not participating, 1 = store is participating\n",
        "14. Promo2Since[Year/Week] - describes the year and calendar week when the store started participating in Promo2\n",
        "15. PromoInterval - describes the consecutive intervals Promo2 is started, naming the months the promotion is started anew. E.g. \"Feb,May,Aug,Nov\" means each round starts in February, May, August, November of any given year for that store"
      ]
    },
    {
      "cell_type": "markdown",
      "metadata": {
        "id": "ysaxj0XwZB_S",
        "colab_type": "text"
      },
      "source": [
        "## _Exploratory Data Analysis_\n",
        "\n"
      ]
    },
    {
      "cell_type": "markdown",
      "metadata": {
        "id": "UuSjhrkfZUEg",
        "colab_type": "text"
      },
      "source": [
        "Setting the work directory"
      ]
    },
    {
      "cell_type": "code",
      "metadata": {
        "id": "TNaeHVimOAmf",
        "colab_type": "code",
        "outputId": "013d804c-dd90-4642-d581-959f6a3859b7",
        "colab": {
          "base_uri": "https://localhost:8080/",
          "height": 34
        }
      },
      "source": [
        "from google.colab import drive\n",
        "drive.mount(\"/content/drive\")"
      ],
      "execution_count": 1,
      "outputs": [
        {
          "output_type": "stream",
          "text": [
            "Drive already mounted at /content/drive; to attempt to forcibly remount, call drive.mount(\"/content/drive\", force_remount=True).\n"
          ],
          "name": "stdout"
        }
      ]
    },
    {
      "cell_type": "code",
      "metadata": {
        "id": "vvOd76GjOFv3",
        "colab_type": "code",
        "colab": {}
      },
      "source": [
        "import os\n",
        "os.chdir(\"//content//drive//My Drive//Career Services Hackathon\")"
      ],
      "execution_count": 0,
      "outputs": []
    },
    {
      "cell_type": "markdown",
      "metadata": {
        "id": "F6ycaxM-ZPyl",
        "colab_type": "text"
      },
      "source": [
        "### _Import Libraries_"
      ]
    },
    {
      "cell_type": "code",
      "metadata": {
        "id": "-VbiLDzDZpOL",
        "colab_type": "code",
        "colab": {}
      },
      "source": [
        "import pandas as pd\n",
        "import numpy as np\n",
        "\n",
        "from sklearn.preprocessing import StandardScaler\n",
        "from sklearn.preprocessing import OneHotEncoder\n",
        "from sklearn.impute import SimpleImputer\n",
        "\n",
        "import matplotlib.pyplot as plt\n",
        "import seaborn as sns\n",
        "%matplotlib inline\n",
        "\n",
        "from sklearn.model_selection import train_test_split\n",
        "from sklearn.metrics import mean_squared_error\n",
        "\n",
        "import warnings\n",
        "warnings.filterwarnings('ignore')"
      ],
      "execution_count": 0,
      "outputs": []
    },
    {
      "cell_type": "markdown",
      "metadata": {
        "id": "dhzjhS7CZ1q3",
        "colab_type": "text"
      },
      "source": [
        "Reading & Understanding the data"
      ]
    },
    {
      "cell_type": "code",
      "metadata": {
        "id": "50__P4V9ZyDf",
        "colab_type": "code",
        "colab": {}
      },
      "source": [
        "stores_data = pd.read_csv(\"store.csv\", sep=',', header=0, na_values=[\"?\",\",\",\"#\",\"unknown\"])\n",
        "train_data = pd.read_csv(\"train.csv\", sep=',', header=0, na_values=[\"?\",\",\",\"#\",\"unknown\"])\n",
        "test_data = pd.read_csv(\"test.csv\", sep=',', header=0, na_values=[\"?\",\",\",\"#\",\"unknown\"])"
      ],
      "execution_count": 0,
      "outputs": []
    },
    {
      "cell_type": "code",
      "metadata": {
        "id": "4EQx3masvKNh",
        "colab_type": "code",
        "colab": {}
      },
      "source": [
        "Test_data = pd.read_csv(\"test.csv\", sep=',', header=0, na_values=[\"?\",\",\",\"#\",\"unknown\"])"
      ],
      "execution_count": 0,
      "outputs": []
    },
    {
      "cell_type": "code",
      "metadata": {
        "id": "pIgIsRIcZ6ke",
        "colab_type": "code",
        "outputId": "0ec96a1b-1fcc-4090-fddb-aab00b6a5e04",
        "colab": {
          "base_uri": "https://localhost:8080/",
          "height": 136
        }
      },
      "source": [
        "train_data.head(3)"
      ],
      "execution_count": 7,
      "outputs": [
        {
          "output_type": "execute_result",
          "data": {
            "text/html": [
              "<div>\n",
              "<style scoped>\n",
              "    .dataframe tbody tr th:only-of-type {\n",
              "        vertical-align: middle;\n",
              "    }\n",
              "\n",
              "    .dataframe tbody tr th {\n",
              "        vertical-align: top;\n",
              "    }\n",
              "\n",
              "    .dataframe thead th {\n",
              "        text-align: right;\n",
              "    }\n",
              "</style>\n",
              "<table border=\"1\" class=\"dataframe\">\n",
              "  <thead>\n",
              "    <tr style=\"text-align: right;\">\n",
              "      <th></th>\n",
              "      <th>Store</th>\n",
              "      <th>DayOfWeek</th>\n",
              "      <th>Date</th>\n",
              "      <th>Sales</th>\n",
              "      <th>Customers</th>\n",
              "      <th>Open</th>\n",
              "      <th>Promo</th>\n",
              "      <th>StateHoliday</th>\n",
              "      <th>SchoolHoliday</th>\n",
              "    </tr>\n",
              "  </thead>\n",
              "  <tbody>\n",
              "    <tr>\n",
              "      <th>0</th>\n",
              "      <td>1</td>\n",
              "      <td>5</td>\n",
              "      <td>31-07-2015</td>\n",
              "      <td>5263</td>\n",
              "      <td>555</td>\n",
              "      <td>1</td>\n",
              "      <td>1</td>\n",
              "      <td>0</td>\n",
              "      <td>1</td>\n",
              "    </tr>\n",
              "    <tr>\n",
              "      <th>1</th>\n",
              "      <td>2</td>\n",
              "      <td>5</td>\n",
              "      <td>31-07-2015</td>\n",
              "      <td>6064</td>\n",
              "      <td>625</td>\n",
              "      <td>1</td>\n",
              "      <td>1</td>\n",
              "      <td>0</td>\n",
              "      <td>1</td>\n",
              "    </tr>\n",
              "    <tr>\n",
              "      <th>2</th>\n",
              "      <td>3</td>\n",
              "      <td>5</td>\n",
              "      <td>31-07-2015</td>\n",
              "      <td>8314</td>\n",
              "      <td>821</td>\n",
              "      <td>1</td>\n",
              "      <td>1</td>\n",
              "      <td>0</td>\n",
              "      <td>1</td>\n",
              "    </tr>\n",
              "  </tbody>\n",
              "</table>\n",
              "</div>"
            ],
            "text/plain": [
              "   Store  DayOfWeek        Date  Sales  ...  Open  Promo  StateHoliday SchoolHoliday\n",
              "0      1          5  31-07-2015   5263  ...     1      1             0             1\n",
              "1      2          5  31-07-2015   6064  ...     1      1             0             1\n",
              "2      3          5  31-07-2015   8314  ...     1      1             0             1\n",
              "\n",
              "[3 rows x 9 columns]"
            ]
          },
          "metadata": {
            "tags": []
          },
          "execution_count": 7
        }
      ]
    },
    {
      "cell_type": "code",
      "metadata": {
        "id": "qRpmz7q3Z-UG",
        "colab_type": "code",
        "outputId": "fea0f492-6542-4efa-d340-647ec664f8a8",
        "colab": {
          "base_uri": "https://localhost:8080/",
          "height": 34
        }
      },
      "source": [
        "train_data.shape"
      ],
      "execution_count": 8,
      "outputs": [
        {
          "output_type": "execute_result",
          "data": {
            "text/plain": [
              "(1017209, 9)"
            ]
          },
          "metadata": {
            "tags": []
          },
          "execution_count": 8
        }
      ]
    },
    {
      "cell_type": "code",
      "metadata": {
        "id": "-VS_GnZamsgk",
        "colab_type": "code",
        "outputId": "8b832dd6-fb1f-4185-cc01-8caa67a05a02",
        "colab": {
          "base_uri": "https://localhost:8080/",
          "height": 34
        }
      },
      "source": [
        "test_data.shape"
      ],
      "execution_count": 9,
      "outputs": [
        {
          "output_type": "execute_result",
          "data": {
            "text/plain": [
              "(41088, 8)"
            ]
          },
          "metadata": {
            "tags": []
          },
          "execution_count": 9
        }
      ]
    },
    {
      "cell_type": "code",
      "metadata": {
        "id": "oYg06v7JaAXu",
        "colab_type": "code",
        "outputId": "260012fb-f508-4426-d718-aa582fb313f5",
        "colab": {
          "base_uri": "https://localhost:8080/",
          "height": 185
        }
      },
      "source": [
        "train_data.dtypes"
      ],
      "execution_count": 10,
      "outputs": [
        {
          "output_type": "execute_result",
          "data": {
            "text/plain": [
              "Store             int64\n",
              "DayOfWeek         int64\n",
              "Date             object\n",
              "Sales             int64\n",
              "Customers         int64\n",
              "Open              int64\n",
              "Promo             int64\n",
              "StateHoliday     object\n",
              "SchoolHoliday     int64\n",
              "dtype: object"
            ]
          },
          "metadata": {
            "tags": []
          },
          "execution_count": 10
        }
      ]
    },
    {
      "cell_type": "code",
      "metadata": {
        "id": "Dqte30PFaCiR",
        "colab_type": "code",
        "outputId": "345ae60a-6bb8-4f37-f3ab-50cce6104f70",
        "colab": {
          "base_uri": "https://localhost:8080/",
          "height": 373
        }
      },
      "source": [
        "train_data.describe(include='all')"
      ],
      "execution_count": 11,
      "outputs": [
        {
          "output_type": "execute_result",
          "data": {
            "text/html": [
              "<div>\n",
              "<style scoped>\n",
              "    .dataframe tbody tr th:only-of-type {\n",
              "        vertical-align: middle;\n",
              "    }\n",
              "\n",
              "    .dataframe tbody tr th {\n",
              "        vertical-align: top;\n",
              "    }\n",
              "\n",
              "    .dataframe thead th {\n",
              "        text-align: right;\n",
              "    }\n",
              "</style>\n",
              "<table border=\"1\" class=\"dataframe\">\n",
              "  <thead>\n",
              "    <tr style=\"text-align: right;\">\n",
              "      <th></th>\n",
              "      <th>Store</th>\n",
              "      <th>DayOfWeek</th>\n",
              "      <th>Date</th>\n",
              "      <th>Sales</th>\n",
              "      <th>Customers</th>\n",
              "      <th>Open</th>\n",
              "      <th>Promo</th>\n",
              "      <th>StateHoliday</th>\n",
              "      <th>SchoolHoliday</th>\n",
              "    </tr>\n",
              "  </thead>\n",
              "  <tbody>\n",
              "    <tr>\n",
              "      <th>count</th>\n",
              "      <td>1.017209e+06</td>\n",
              "      <td>1.017209e+06</td>\n",
              "      <td>1017209</td>\n",
              "      <td>1.017209e+06</td>\n",
              "      <td>1.017209e+06</td>\n",
              "      <td>1.017209e+06</td>\n",
              "      <td>1.017209e+06</td>\n",
              "      <td>1017209</td>\n",
              "      <td>1.017209e+06</td>\n",
              "    </tr>\n",
              "    <tr>\n",
              "      <th>unique</th>\n",
              "      <td>NaN</td>\n",
              "      <td>NaN</td>\n",
              "      <td>942</td>\n",
              "      <td>NaN</td>\n",
              "      <td>NaN</td>\n",
              "      <td>NaN</td>\n",
              "      <td>NaN</td>\n",
              "      <td>5</td>\n",
              "      <td>NaN</td>\n",
              "    </tr>\n",
              "    <tr>\n",
              "      <th>top</th>\n",
              "      <td>NaN</td>\n",
              "      <td>NaN</td>\n",
              "      <td>27-12-2013</td>\n",
              "      <td>NaN</td>\n",
              "      <td>NaN</td>\n",
              "      <td>NaN</td>\n",
              "      <td>NaN</td>\n",
              "      <td>0</td>\n",
              "      <td>NaN</td>\n",
              "    </tr>\n",
              "    <tr>\n",
              "      <th>freq</th>\n",
              "      <td>NaN</td>\n",
              "      <td>NaN</td>\n",
              "      <td>1115</td>\n",
              "      <td>NaN</td>\n",
              "      <td>NaN</td>\n",
              "      <td>NaN</td>\n",
              "      <td>NaN</td>\n",
              "      <td>855087</td>\n",
              "      <td>NaN</td>\n",
              "    </tr>\n",
              "    <tr>\n",
              "      <th>mean</th>\n",
              "      <td>5.584297e+02</td>\n",
              "      <td>3.998341e+00</td>\n",
              "      <td>NaN</td>\n",
              "      <td>5.773819e+03</td>\n",
              "      <td>6.331459e+02</td>\n",
              "      <td>8.301067e-01</td>\n",
              "      <td>3.815145e-01</td>\n",
              "      <td>NaN</td>\n",
              "      <td>1.786467e-01</td>\n",
              "    </tr>\n",
              "    <tr>\n",
              "      <th>std</th>\n",
              "      <td>3.219087e+02</td>\n",
              "      <td>1.997391e+00</td>\n",
              "      <td>NaN</td>\n",
              "      <td>3.849926e+03</td>\n",
              "      <td>4.644117e+02</td>\n",
              "      <td>3.755392e-01</td>\n",
              "      <td>4.857586e-01</td>\n",
              "      <td>NaN</td>\n",
              "      <td>3.830564e-01</td>\n",
              "    </tr>\n",
              "    <tr>\n",
              "      <th>min</th>\n",
              "      <td>1.000000e+00</td>\n",
              "      <td>1.000000e+00</td>\n",
              "      <td>NaN</td>\n",
              "      <td>0.000000e+00</td>\n",
              "      <td>0.000000e+00</td>\n",
              "      <td>0.000000e+00</td>\n",
              "      <td>0.000000e+00</td>\n",
              "      <td>NaN</td>\n",
              "      <td>0.000000e+00</td>\n",
              "    </tr>\n",
              "    <tr>\n",
              "      <th>25%</th>\n",
              "      <td>2.800000e+02</td>\n",
              "      <td>2.000000e+00</td>\n",
              "      <td>NaN</td>\n",
              "      <td>3.727000e+03</td>\n",
              "      <td>4.050000e+02</td>\n",
              "      <td>1.000000e+00</td>\n",
              "      <td>0.000000e+00</td>\n",
              "      <td>NaN</td>\n",
              "      <td>0.000000e+00</td>\n",
              "    </tr>\n",
              "    <tr>\n",
              "      <th>50%</th>\n",
              "      <td>5.580000e+02</td>\n",
              "      <td>4.000000e+00</td>\n",
              "      <td>NaN</td>\n",
              "      <td>5.744000e+03</td>\n",
              "      <td>6.090000e+02</td>\n",
              "      <td>1.000000e+00</td>\n",
              "      <td>0.000000e+00</td>\n",
              "      <td>NaN</td>\n",
              "      <td>0.000000e+00</td>\n",
              "    </tr>\n",
              "    <tr>\n",
              "      <th>75%</th>\n",
              "      <td>8.380000e+02</td>\n",
              "      <td>6.000000e+00</td>\n",
              "      <td>NaN</td>\n",
              "      <td>7.856000e+03</td>\n",
              "      <td>8.370000e+02</td>\n",
              "      <td>1.000000e+00</td>\n",
              "      <td>1.000000e+00</td>\n",
              "      <td>NaN</td>\n",
              "      <td>0.000000e+00</td>\n",
              "    </tr>\n",
              "    <tr>\n",
              "      <th>max</th>\n",
              "      <td>1.115000e+03</td>\n",
              "      <td>7.000000e+00</td>\n",
              "      <td>NaN</td>\n",
              "      <td>4.155100e+04</td>\n",
              "      <td>7.388000e+03</td>\n",
              "      <td>1.000000e+00</td>\n",
              "      <td>1.000000e+00</td>\n",
              "      <td>NaN</td>\n",
              "      <td>1.000000e+00</td>\n",
              "    </tr>\n",
              "  </tbody>\n",
              "</table>\n",
              "</div>"
            ],
            "text/plain": [
              "               Store     DayOfWeek  ... StateHoliday  SchoolHoliday\n",
              "count   1.017209e+06  1.017209e+06  ...      1017209   1.017209e+06\n",
              "unique           NaN           NaN  ...            5            NaN\n",
              "top              NaN           NaN  ...            0            NaN\n",
              "freq             NaN           NaN  ...       855087            NaN\n",
              "mean    5.584297e+02  3.998341e+00  ...          NaN   1.786467e-01\n",
              "std     3.219087e+02  1.997391e+00  ...          NaN   3.830564e-01\n",
              "min     1.000000e+00  1.000000e+00  ...          NaN   0.000000e+00\n",
              "25%     2.800000e+02  2.000000e+00  ...          NaN   0.000000e+00\n",
              "50%     5.580000e+02  4.000000e+00  ...          NaN   0.000000e+00\n",
              "75%     8.380000e+02  6.000000e+00  ...          NaN   0.000000e+00\n",
              "max     1.115000e+03  7.000000e+00  ...          NaN   1.000000e+00\n",
              "\n",
              "[11 rows x 9 columns]"
            ]
          },
          "metadata": {
            "tags": []
          },
          "execution_count": 11
        }
      ]
    },
    {
      "cell_type": "markdown",
      "metadata": {
        "id": "SyU4rDci-1xL",
        "colab_type": "text"
      },
      "source": [
        "Checking for missing values"
      ]
    },
    {
      "cell_type": "code",
      "metadata": {
        "id": "M6pvv9MhaGA1",
        "colab_type": "code",
        "outputId": "9a6e2aeb-1dd0-43a4-a4eb-9902e511564f",
        "colab": {
          "base_uri": "https://localhost:8080/",
          "height": 185
        }
      },
      "source": [
        "train_data.isnull().sum()"
      ],
      "execution_count": 12,
      "outputs": [
        {
          "output_type": "execute_result",
          "data": {
            "text/plain": [
              "Store            0\n",
              "DayOfWeek        0\n",
              "Date             0\n",
              "Sales            0\n",
              "Customers        0\n",
              "Open             0\n",
              "Promo            0\n",
              "StateHoliday     0\n",
              "SchoolHoliday    0\n",
              "dtype: int64"
            ]
          },
          "metadata": {
            "tags": []
          },
          "execution_count": 12
        }
      ]
    },
    {
      "cell_type": "code",
      "metadata": {
        "id": "53nbykc2myZB",
        "colab_type": "code",
        "outputId": "6a337183-14fc-45fb-ae76-480797fdee4c",
        "colab": {
          "base_uri": "https://localhost:8080/",
          "height": 168
        }
      },
      "source": [
        "test_data.isnull().sum()"
      ],
      "execution_count": 13,
      "outputs": [
        {
          "output_type": "execute_result",
          "data": {
            "text/plain": [
              "Id                0\n",
              "Store             0\n",
              "DayOfWeek         0\n",
              "Date              0\n",
              "Open             11\n",
              "Promo             0\n",
              "StateHoliday      0\n",
              "SchoolHoliday     0\n",
              "dtype: int64"
            ]
          },
          "metadata": {
            "tags": []
          },
          "execution_count": 13
        }
      ]
    },
    {
      "cell_type": "markdown",
      "metadata": {
        "id": "j2O39tMdRg26",
        "colab_type": "text"
      },
      "source": [
        "### Feature Engineering"
      ]
    },
    {
      "cell_type": "markdown",
      "metadata": {
        "id": "3CxR6vwhRmt3",
        "colab_type": "text"
      },
      "source": [
        "Creating Year & Month Columns from the date column"
      ]
    },
    {
      "cell_type": "markdown",
      "metadata": {
        "id": "2Qz4liWU-6wU",
        "colab_type": "text"
      },
      "source": [
        "First Changing the Date column into Year/Month/Date format"
      ]
    },
    {
      "cell_type": "code",
      "metadata": {
        "id": "UHmkRDbUaIdi",
        "colab_type": "code",
        "colab": {}
      },
      "source": [
        "train_data[\"Date\"] = train_data[\"Date\"].astype(\"Datetime64\")"
      ],
      "execution_count": 0,
      "outputs": []
    },
    {
      "cell_type": "code",
      "metadata": {
        "id": "wXSq0JBnm2YX",
        "colab_type": "code",
        "colab": {}
      },
      "source": [
        "test_data[\"Date\"] = test_data[\"Date\"].astype(\"Datetime64\")"
      ],
      "execution_count": 0,
      "outputs": []
    },
    {
      "cell_type": "code",
      "metadata": {
        "id": "rq8pXTWwaLuR",
        "colab_type": "code",
        "colab": {}
      },
      "source": [
        "train_data['Year'] = pd.DatetimeIndex(train_data['Date']).year"
      ],
      "execution_count": 0,
      "outputs": []
    },
    {
      "cell_type": "code",
      "metadata": {
        "id": "QYnAd9dfm7RI",
        "colab_type": "code",
        "colab": {}
      },
      "source": [
        "test_data['Year'] = pd.DatetimeIndex(test_data['Date']).year"
      ],
      "execution_count": 0,
      "outputs": []
    },
    {
      "cell_type": "code",
      "metadata": {
        "id": "6AWrEUAYaOh_",
        "colab_type": "code",
        "colab": {}
      },
      "source": [
        "train_data['Month'] = pd.DatetimeIndex(train_data['Date']).month"
      ],
      "execution_count": 0,
      "outputs": []
    },
    {
      "cell_type": "code",
      "metadata": {
        "id": "LE42kuYXm_-A",
        "colab_type": "code",
        "colab": {}
      },
      "source": [
        "test_data['Month'] = pd.DatetimeIndex(test_data['Date']).month"
      ],
      "execution_count": 0,
      "outputs": []
    },
    {
      "cell_type": "markdown",
      "metadata": {
        "id": "I9sXNUsE_cX4",
        "colab_type": "text"
      },
      "source": [
        "Reindexing the Columns\n"
      ]
    },
    {
      "cell_type": "code",
      "metadata": {
        "id": "qi9rDcIoaUl-",
        "colab_type": "code",
        "colab": {}
      },
      "source": [
        "train_data = train_data.reindex(columns=['Store','DayOfWeek','Date','Year','Month','Customers','Open','Promo','StateHoliday','SchoolHoliday','Sales'])"
      ],
      "execution_count": 0,
      "outputs": []
    },
    {
      "cell_type": "markdown",
      "metadata": {
        "id": "VrmfaAin_gD_",
        "colab_type": "text"
      },
      "source": [
        "Checking the Unique values of each column"
      ]
    },
    {
      "cell_type": "code",
      "metadata": {
        "id": "q8vJUWnPaW6D",
        "colab_type": "code",
        "outputId": "74305015-ffae-480e-dc89-048ecfc5fbcc",
        "colab": {
          "base_uri": "https://localhost:8080/",
          "height": 218
        }
      },
      "source": [
        "train_data.nunique()"
      ],
      "execution_count": 21,
      "outputs": [
        {
          "output_type": "execute_result",
          "data": {
            "text/plain": [
              "Store             1115\n",
              "DayOfWeek            7\n",
              "Date               942\n",
              "Year                 3\n",
              "Month               12\n",
              "Customers         4086\n",
              "Open                 2\n",
              "Promo                2\n",
              "StateHoliday         5\n",
              "SchoolHoliday        2\n",
              "Sales            21734\n",
              "dtype: int64"
            ]
          },
          "metadata": {
            "tags": []
          },
          "execution_count": 21
        }
      ]
    },
    {
      "cell_type": "code",
      "metadata": {
        "id": "X1zV3FWraZwP",
        "colab_type": "code",
        "outputId": "52f66057-2c70-4059-c5f3-03236e5e513f",
        "colab": {
          "base_uri": "https://localhost:8080/",
          "height": 136
        }
      },
      "source": [
        "train_data.head(3)"
      ],
      "execution_count": 22,
      "outputs": [
        {
          "output_type": "execute_result",
          "data": {
            "text/html": [
              "<div>\n",
              "<style scoped>\n",
              "    .dataframe tbody tr th:only-of-type {\n",
              "        vertical-align: middle;\n",
              "    }\n",
              "\n",
              "    .dataframe tbody tr th {\n",
              "        vertical-align: top;\n",
              "    }\n",
              "\n",
              "    .dataframe thead th {\n",
              "        text-align: right;\n",
              "    }\n",
              "</style>\n",
              "<table border=\"1\" class=\"dataframe\">\n",
              "  <thead>\n",
              "    <tr style=\"text-align: right;\">\n",
              "      <th></th>\n",
              "      <th>Store</th>\n",
              "      <th>DayOfWeek</th>\n",
              "      <th>Date</th>\n",
              "      <th>Year</th>\n",
              "      <th>Month</th>\n",
              "      <th>Customers</th>\n",
              "      <th>Open</th>\n",
              "      <th>Promo</th>\n",
              "      <th>StateHoliday</th>\n",
              "      <th>SchoolHoliday</th>\n",
              "      <th>Sales</th>\n",
              "    </tr>\n",
              "  </thead>\n",
              "  <tbody>\n",
              "    <tr>\n",
              "      <th>0</th>\n",
              "      <td>1</td>\n",
              "      <td>5</td>\n",
              "      <td>2015-07-31</td>\n",
              "      <td>2015</td>\n",
              "      <td>7</td>\n",
              "      <td>555</td>\n",
              "      <td>1</td>\n",
              "      <td>1</td>\n",
              "      <td>0</td>\n",
              "      <td>1</td>\n",
              "      <td>5263</td>\n",
              "    </tr>\n",
              "    <tr>\n",
              "      <th>1</th>\n",
              "      <td>2</td>\n",
              "      <td>5</td>\n",
              "      <td>2015-07-31</td>\n",
              "      <td>2015</td>\n",
              "      <td>7</td>\n",
              "      <td>625</td>\n",
              "      <td>1</td>\n",
              "      <td>1</td>\n",
              "      <td>0</td>\n",
              "      <td>1</td>\n",
              "      <td>6064</td>\n",
              "    </tr>\n",
              "    <tr>\n",
              "      <th>2</th>\n",
              "      <td>3</td>\n",
              "      <td>5</td>\n",
              "      <td>2015-07-31</td>\n",
              "      <td>2015</td>\n",
              "      <td>7</td>\n",
              "      <td>821</td>\n",
              "      <td>1</td>\n",
              "      <td>1</td>\n",
              "      <td>0</td>\n",
              "      <td>1</td>\n",
              "      <td>8314</td>\n",
              "    </tr>\n",
              "  </tbody>\n",
              "</table>\n",
              "</div>"
            ],
            "text/plain": [
              "   Store  DayOfWeek       Date  Year  ...  Promo  StateHoliday  SchoolHoliday  Sales\n",
              "0      1          5 2015-07-31  2015  ...      1             0              1   5263\n",
              "1      2          5 2015-07-31  2015  ...      1             0              1   6064\n",
              "2      3          5 2015-07-31  2015  ...      1             0              1   8314\n",
              "\n",
              "[3 rows x 11 columns]"
            ]
          },
          "metadata": {
            "tags": []
          },
          "execution_count": 22
        }
      ]
    },
    {
      "cell_type": "code",
      "metadata": {
        "id": "wl7AU6zjah58",
        "colab_type": "code",
        "outputId": "27f82f13-1610-4dfc-b6bd-7f5c05a469aa",
        "colab": {
          "base_uri": "https://localhost:8080/",
          "height": 136
        }
      },
      "source": [
        "train_data.tail(3)"
      ],
      "execution_count": 23,
      "outputs": [
        {
          "output_type": "execute_result",
          "data": {
            "text/html": [
              "<div>\n",
              "<style scoped>\n",
              "    .dataframe tbody tr th:only-of-type {\n",
              "        vertical-align: middle;\n",
              "    }\n",
              "\n",
              "    .dataframe tbody tr th {\n",
              "        vertical-align: top;\n",
              "    }\n",
              "\n",
              "    .dataframe thead th {\n",
              "        text-align: right;\n",
              "    }\n",
              "</style>\n",
              "<table border=\"1\" class=\"dataframe\">\n",
              "  <thead>\n",
              "    <tr style=\"text-align: right;\">\n",
              "      <th></th>\n",
              "      <th>Store</th>\n",
              "      <th>DayOfWeek</th>\n",
              "      <th>Date</th>\n",
              "      <th>Year</th>\n",
              "      <th>Month</th>\n",
              "      <th>Customers</th>\n",
              "      <th>Open</th>\n",
              "      <th>Promo</th>\n",
              "      <th>StateHoliday</th>\n",
              "      <th>SchoolHoliday</th>\n",
              "      <th>Sales</th>\n",
              "    </tr>\n",
              "  </thead>\n",
              "  <tbody>\n",
              "    <tr>\n",
              "      <th>1017206</th>\n",
              "      <td>1113</td>\n",
              "      <td>2</td>\n",
              "      <td>2013-01-01</td>\n",
              "      <td>2013</td>\n",
              "      <td>1</td>\n",
              "      <td>0</td>\n",
              "      <td>0</td>\n",
              "      <td>0</td>\n",
              "      <td>a</td>\n",
              "      <td>1</td>\n",
              "      <td>0</td>\n",
              "    </tr>\n",
              "    <tr>\n",
              "      <th>1017207</th>\n",
              "      <td>1114</td>\n",
              "      <td>2</td>\n",
              "      <td>2013-01-01</td>\n",
              "      <td>2013</td>\n",
              "      <td>1</td>\n",
              "      <td>0</td>\n",
              "      <td>0</td>\n",
              "      <td>0</td>\n",
              "      <td>a</td>\n",
              "      <td>1</td>\n",
              "      <td>0</td>\n",
              "    </tr>\n",
              "    <tr>\n",
              "      <th>1017208</th>\n",
              "      <td>1115</td>\n",
              "      <td>2</td>\n",
              "      <td>2013-01-01</td>\n",
              "      <td>2013</td>\n",
              "      <td>1</td>\n",
              "      <td>0</td>\n",
              "      <td>0</td>\n",
              "      <td>0</td>\n",
              "      <td>a</td>\n",
              "      <td>1</td>\n",
              "      <td>0</td>\n",
              "    </tr>\n",
              "  </tbody>\n",
              "</table>\n",
              "</div>"
            ],
            "text/plain": [
              "         Store  DayOfWeek       Date  ...  StateHoliday  SchoolHoliday  Sales\n",
              "1017206   1113          2 2013-01-01  ...             a              1      0\n",
              "1017207   1114          2 2013-01-01  ...             a              1      0\n",
              "1017208   1115          2 2013-01-01  ...             a              1      0\n",
              "\n",
              "[3 rows x 11 columns]"
            ]
          },
          "metadata": {
            "tags": []
          },
          "execution_count": 23
        }
      ]
    },
    {
      "cell_type": "markdown",
      "metadata": {
        "id": "VPg0tiDq_sB7",
        "colab_type": "text"
      },
      "source": [
        "Checking the level counts of Open, Promo & State Holiday columns"
      ]
    },
    {
      "cell_type": "code",
      "metadata": {
        "id": "TWzvhtDjakYM",
        "colab_type": "code",
        "outputId": "0cf17d69-32bd-4855-c2d8-655173f21ee7",
        "colab": {
          "base_uri": "https://localhost:8080/",
          "height": 67
        }
      },
      "source": [
        "train_data['Open'].value_counts()"
      ],
      "execution_count": 24,
      "outputs": [
        {
          "output_type": "execute_result",
          "data": {
            "text/plain": [
              "1    844392\n",
              "0    172817\n",
              "Name: Open, dtype: int64"
            ]
          },
          "metadata": {
            "tags": []
          },
          "execution_count": 24
        }
      ]
    },
    {
      "cell_type": "code",
      "metadata": {
        "id": "J_7veMiQanEb",
        "colab_type": "code",
        "outputId": "19cd7ecf-cbb0-45de-d4f2-a8c279807727",
        "colab": {
          "base_uri": "https://localhost:8080/",
          "height": 67
        }
      },
      "source": [
        "train_data['Promo'].value_counts()"
      ],
      "execution_count": 25,
      "outputs": [
        {
          "output_type": "execute_result",
          "data": {
            "text/plain": [
              "0    629129\n",
              "1    388080\n",
              "Name: Promo, dtype: int64"
            ]
          },
          "metadata": {
            "tags": []
          },
          "execution_count": 25
        }
      ]
    },
    {
      "cell_type": "code",
      "metadata": {
        "id": "7rAyIRPKaqN9",
        "colab_type": "code",
        "outputId": "e0309a2e-e8fa-4b97-cbbf-f284b78fc075",
        "colab": {
          "base_uri": "https://localhost:8080/",
          "height": 118
        }
      },
      "source": [
        "train_data['StateHoliday'].value_counts()"
      ],
      "execution_count": 26,
      "outputs": [
        {
          "output_type": "execute_result",
          "data": {
            "text/plain": [
              "0    855087\n",
              "0    131072\n",
              "a     20260\n",
              "b      6690\n",
              "c      4100\n",
              "Name: StateHoliday, dtype: int64"
            ]
          },
          "metadata": {
            "tags": []
          },
          "execution_count": 26
        }
      ]
    },
    {
      "cell_type": "markdown",
      "metadata": {
        "id": "87dSnrUXASB4",
        "colab_type": "text"
      },
      "source": [
        "Converting the zero values from int to categorical in State Holiday column"
      ]
    },
    {
      "cell_type": "code",
      "metadata": {
        "id": "_CAHrps2athI",
        "colab_type": "code",
        "colab": {}
      },
      "source": [
        "train_data.loc[train_data['StateHoliday']==0,'StateHoliday']='0'"
      ],
      "execution_count": 0,
      "outputs": []
    },
    {
      "cell_type": "code",
      "metadata": {
        "id": "cXK4_tIMnL3n",
        "colab_type": "code",
        "colab": {}
      },
      "source": [
        "test_data.loc[test_data['StateHoliday']==0,'StateHoliday']='0'"
      ],
      "execution_count": 0,
      "outputs": []
    },
    {
      "cell_type": "code",
      "metadata": {
        "id": "_Q-nmm93a4uJ",
        "colab_type": "code",
        "outputId": "49ddbd07-b9e4-4fd1-bede-e320534a4812",
        "colab": {
          "base_uri": "https://localhost:8080/",
          "height": 101
        }
      },
      "source": [
        "train_data['StateHoliday'].value_counts()"
      ],
      "execution_count": 29,
      "outputs": [
        {
          "output_type": "execute_result",
          "data": {
            "text/plain": [
              "0    986159\n",
              "a     20260\n",
              "b      6690\n",
              "c      4100\n",
              "Name: StateHoliday, dtype: int64"
            ]
          },
          "metadata": {
            "tags": []
          },
          "execution_count": 29
        }
      ]
    },
    {
      "cell_type": "code",
      "metadata": {
        "id": "DUPmFBm5bEOI",
        "colab_type": "code",
        "outputId": "2373f9d1-9c17-4172-9486-b042ef4699b6",
        "colab": {
          "base_uri": "https://localhost:8080/",
          "height": 67
        }
      },
      "source": [
        "train_data['SchoolHoliday'].value_counts()"
      ],
      "execution_count": 30,
      "outputs": [
        {
          "output_type": "execute_result",
          "data": {
            "text/plain": [
              "0    835488\n",
              "1    181721\n",
              "Name: SchoolHoliday, dtype: int64"
            ]
          },
          "metadata": {
            "tags": []
          },
          "execution_count": 30
        }
      ]
    },
    {
      "cell_type": "markdown",
      "metadata": {
        "id": "ZM-CbQTMbUWb",
        "colab_type": "text"
      },
      "source": [
        "Stores Data"
      ]
    },
    {
      "cell_type": "code",
      "metadata": {
        "id": "Hu7_BwPwbSja",
        "colab_type": "code",
        "outputId": "d43127e5-a776-4fc5-a0d5-e868b04128d0",
        "colab": {
          "base_uri": "https://localhost:8080/",
          "height": 136
        }
      },
      "source": [
        "stores_data.head(3)"
      ],
      "execution_count": 31,
      "outputs": [
        {
          "output_type": "execute_result",
          "data": {
            "text/html": [
              "<div>\n",
              "<style scoped>\n",
              "    .dataframe tbody tr th:only-of-type {\n",
              "        vertical-align: middle;\n",
              "    }\n",
              "\n",
              "    .dataframe tbody tr th {\n",
              "        vertical-align: top;\n",
              "    }\n",
              "\n",
              "    .dataframe thead th {\n",
              "        text-align: right;\n",
              "    }\n",
              "</style>\n",
              "<table border=\"1\" class=\"dataframe\">\n",
              "  <thead>\n",
              "    <tr style=\"text-align: right;\">\n",
              "      <th></th>\n",
              "      <th>Store</th>\n",
              "      <th>StoreType</th>\n",
              "      <th>Assortment</th>\n",
              "      <th>CompetitionDistance</th>\n",
              "      <th>CompetitionOpenSinceMonth</th>\n",
              "      <th>CompetitionOpenSinceYear</th>\n",
              "      <th>Promo2</th>\n",
              "      <th>Promo2SinceWeek</th>\n",
              "      <th>Promo2SinceYear</th>\n",
              "      <th>PromoInterval</th>\n",
              "    </tr>\n",
              "  </thead>\n",
              "  <tbody>\n",
              "    <tr>\n",
              "      <th>0</th>\n",
              "      <td>1</td>\n",
              "      <td>c</td>\n",
              "      <td>a</td>\n",
              "      <td>1270.0</td>\n",
              "      <td>9.0</td>\n",
              "      <td>2008.0</td>\n",
              "      <td>0</td>\n",
              "      <td>NaN</td>\n",
              "      <td>NaN</td>\n",
              "      <td>NaN</td>\n",
              "    </tr>\n",
              "    <tr>\n",
              "      <th>1</th>\n",
              "      <td>2</td>\n",
              "      <td>a</td>\n",
              "      <td>a</td>\n",
              "      <td>570.0</td>\n",
              "      <td>11.0</td>\n",
              "      <td>2007.0</td>\n",
              "      <td>1</td>\n",
              "      <td>13.0</td>\n",
              "      <td>2010.0</td>\n",
              "      <td>Jan,Apr,Jul,Oct</td>\n",
              "    </tr>\n",
              "    <tr>\n",
              "      <th>2</th>\n",
              "      <td>3</td>\n",
              "      <td>a</td>\n",
              "      <td>a</td>\n",
              "      <td>14130.0</td>\n",
              "      <td>12.0</td>\n",
              "      <td>2006.0</td>\n",
              "      <td>1</td>\n",
              "      <td>14.0</td>\n",
              "      <td>2011.0</td>\n",
              "      <td>Jan,Apr,Jul,Oct</td>\n",
              "    </tr>\n",
              "  </tbody>\n",
              "</table>\n",
              "</div>"
            ],
            "text/plain": [
              "   Store StoreType  ... Promo2SinceYear    PromoInterval\n",
              "0      1         c  ...             NaN              NaN\n",
              "1      2         a  ...          2010.0  Jan,Apr,Jul,Oct\n",
              "2      3         a  ...          2011.0  Jan,Apr,Jul,Oct\n",
              "\n",
              "[3 rows x 10 columns]"
            ]
          },
          "metadata": {
            "tags": []
          },
          "execution_count": 31
        }
      ]
    },
    {
      "cell_type": "code",
      "metadata": {
        "id": "f8tXG1HwbaYt",
        "colab_type": "code",
        "outputId": "aba18459-a459-4eab-b703-0073876d4e7a",
        "colab": {
          "base_uri": "https://localhost:8080/",
          "height": 136
        }
      },
      "source": [
        "stores_data.tail(3)"
      ],
      "execution_count": 32,
      "outputs": [
        {
          "output_type": "execute_result",
          "data": {
            "text/html": [
              "<div>\n",
              "<style scoped>\n",
              "    .dataframe tbody tr th:only-of-type {\n",
              "        vertical-align: middle;\n",
              "    }\n",
              "\n",
              "    .dataframe tbody tr th {\n",
              "        vertical-align: top;\n",
              "    }\n",
              "\n",
              "    .dataframe thead th {\n",
              "        text-align: right;\n",
              "    }\n",
              "</style>\n",
              "<table border=\"1\" class=\"dataframe\">\n",
              "  <thead>\n",
              "    <tr style=\"text-align: right;\">\n",
              "      <th></th>\n",
              "      <th>Store</th>\n",
              "      <th>StoreType</th>\n",
              "      <th>Assortment</th>\n",
              "      <th>CompetitionDistance</th>\n",
              "      <th>CompetitionOpenSinceMonth</th>\n",
              "      <th>CompetitionOpenSinceYear</th>\n",
              "      <th>Promo2</th>\n",
              "      <th>Promo2SinceWeek</th>\n",
              "      <th>Promo2SinceYear</th>\n",
              "      <th>PromoInterval</th>\n",
              "    </tr>\n",
              "  </thead>\n",
              "  <tbody>\n",
              "    <tr>\n",
              "      <th>1112</th>\n",
              "      <td>1113</td>\n",
              "      <td>a</td>\n",
              "      <td>c</td>\n",
              "      <td>9260.0</td>\n",
              "      <td>NaN</td>\n",
              "      <td>NaN</td>\n",
              "      <td>0</td>\n",
              "      <td>NaN</td>\n",
              "      <td>NaN</td>\n",
              "      <td>NaN</td>\n",
              "    </tr>\n",
              "    <tr>\n",
              "      <th>1113</th>\n",
              "      <td>1114</td>\n",
              "      <td>a</td>\n",
              "      <td>c</td>\n",
              "      <td>870.0</td>\n",
              "      <td>NaN</td>\n",
              "      <td>NaN</td>\n",
              "      <td>0</td>\n",
              "      <td>NaN</td>\n",
              "      <td>NaN</td>\n",
              "      <td>NaN</td>\n",
              "    </tr>\n",
              "    <tr>\n",
              "      <th>1114</th>\n",
              "      <td>1115</td>\n",
              "      <td>d</td>\n",
              "      <td>c</td>\n",
              "      <td>5350.0</td>\n",
              "      <td>NaN</td>\n",
              "      <td>NaN</td>\n",
              "      <td>1</td>\n",
              "      <td>22.0</td>\n",
              "      <td>2012.0</td>\n",
              "      <td>Mar,Jun,Sept,Dec</td>\n",
              "    </tr>\n",
              "  </tbody>\n",
              "</table>\n",
              "</div>"
            ],
            "text/plain": [
              "      Store StoreType  ... Promo2SinceYear     PromoInterval\n",
              "1112   1113         a  ...             NaN               NaN\n",
              "1113   1114         a  ...             NaN               NaN\n",
              "1114   1115         d  ...          2012.0  Mar,Jun,Sept,Dec\n",
              "\n",
              "[3 rows x 10 columns]"
            ]
          },
          "metadata": {
            "tags": []
          },
          "execution_count": 32
        }
      ]
    },
    {
      "cell_type": "code",
      "metadata": {
        "id": "PjV4t2rsbeE9",
        "colab_type": "code",
        "outputId": "4bc3655c-2559-4747-9f88-901be35a9d8a",
        "colab": {
          "base_uri": "https://localhost:8080/",
          "height": 34
        }
      },
      "source": [
        "stores_data.shape"
      ],
      "execution_count": 33,
      "outputs": [
        {
          "output_type": "execute_result",
          "data": {
            "text/plain": [
              "(1115, 10)"
            ]
          },
          "metadata": {
            "tags": []
          },
          "execution_count": 33
        }
      ]
    },
    {
      "cell_type": "markdown",
      "metadata": {
        "id": "iyePRp26Jc1O",
        "colab_type": "text"
      },
      "source": [
        "Imputing 0 values in place of NaN in Promo2SinceWeek,Promo2SinceYear,PromoInterval since those stores did not particiapte in Promo2 "
      ]
    },
    {
      "cell_type": "code",
      "metadata": {
        "id": "odTF7TSxdINb",
        "colab_type": "code",
        "colab": {}
      },
      "source": [
        "stores_data.loc[stores_data['Promo2']==0,'Promo2SinceWeek']=0"
      ],
      "execution_count": 0,
      "outputs": []
    },
    {
      "cell_type": "code",
      "metadata": {
        "id": "iy_AcGJ7dMTK",
        "colab_type": "code",
        "colab": {}
      },
      "source": [
        "stores_data.loc[stores_data['Promo2']==0,'Promo2SinceYear']=0"
      ],
      "execution_count": 0,
      "outputs": []
    },
    {
      "cell_type": "code",
      "metadata": {
        "id": "0CITQvq6dO7z",
        "colab_type": "code",
        "colab": {}
      },
      "source": [
        "stores_data.loc[stores_data['Promo2']==0,'PromoInterval']=0"
      ],
      "execution_count": 0,
      "outputs": []
    },
    {
      "cell_type": "code",
      "metadata": {
        "id": "UTs-6zJLdVfJ",
        "colab_type": "code",
        "outputId": "7f32ce95-3ba7-4f84-876b-b1439f25be69",
        "colab": {
          "base_uri": "https://localhost:8080/",
          "height": 202
        }
      },
      "source": [
        "stores_data.dtypes"
      ],
      "execution_count": 38,
      "outputs": [
        {
          "output_type": "execute_result",
          "data": {
            "text/plain": [
              "Store                          int64\n",
              "StoreType                     object\n",
              "Assortment                    object\n",
              "CompetitionDistance          float64\n",
              "CompetitionOpenSinceMonth    float64\n",
              "CompetitionOpenSinceYear     float64\n",
              "Promo2                         int64\n",
              "Promo2SinceWeek              float64\n",
              "Promo2SinceYear              float64\n",
              "PromoInterval                 object\n",
              "dtype: object"
            ]
          },
          "metadata": {
            "tags": []
          },
          "execution_count": 38
        }
      ]
    },
    {
      "cell_type": "markdown",
      "metadata": {
        "id": "1Uvd1mZVKbDr",
        "colab_type": "text"
      },
      "source": [
        "Converting the data types"
      ]
    },
    {
      "cell_type": "code",
      "metadata": {
        "id": "k7pT3vRBdi8W",
        "colab_type": "code",
        "colab": {}
      },
      "source": [
        "columns = ['CompetitionOpenSinceMonth','CompetitionOpenSinceYear','Promo2SinceWeek','Promo2SinceYear','StoreType','Assortment','Promo2','PromoInterval']\n",
        "for col in columns:\n",
        "    stores_data[col]=stores_data[col].astype('category')"
      ],
      "execution_count": 0,
      "outputs": []
    },
    {
      "cell_type": "code",
      "metadata": {
        "id": "3L-Ck6bCdmaw",
        "colab_type": "code",
        "outputId": "0942da8d-02d1-49a8-de76-dfa026d8ecd6",
        "colab": {
          "base_uri": "https://localhost:8080/",
          "height": 373
        }
      },
      "source": [
        "stores_data.describe(include='all')"
      ],
      "execution_count": 40,
      "outputs": [
        {
          "output_type": "execute_result",
          "data": {
            "text/html": [
              "<div>\n",
              "<style scoped>\n",
              "    .dataframe tbody tr th:only-of-type {\n",
              "        vertical-align: middle;\n",
              "    }\n",
              "\n",
              "    .dataframe tbody tr th {\n",
              "        vertical-align: top;\n",
              "    }\n",
              "\n",
              "    .dataframe thead th {\n",
              "        text-align: right;\n",
              "    }\n",
              "</style>\n",
              "<table border=\"1\" class=\"dataframe\">\n",
              "  <thead>\n",
              "    <tr style=\"text-align: right;\">\n",
              "      <th></th>\n",
              "      <th>Store</th>\n",
              "      <th>StoreType</th>\n",
              "      <th>Assortment</th>\n",
              "      <th>CompetitionDistance</th>\n",
              "      <th>CompetitionOpenSinceMonth</th>\n",
              "      <th>CompetitionOpenSinceYear</th>\n",
              "      <th>Promo2</th>\n",
              "      <th>Promo2SinceWeek</th>\n",
              "      <th>Promo2SinceYear</th>\n",
              "      <th>PromoInterval</th>\n",
              "    </tr>\n",
              "  </thead>\n",
              "  <tbody>\n",
              "    <tr>\n",
              "      <th>count</th>\n",
              "      <td>1115.00000</td>\n",
              "      <td>1115</td>\n",
              "      <td>1115</td>\n",
              "      <td>1112.000000</td>\n",
              "      <td>761.0</td>\n",
              "      <td>761.0</td>\n",
              "      <td>1115.0</td>\n",
              "      <td>1115.0</td>\n",
              "      <td>1115.0</td>\n",
              "      <td>1115.0</td>\n",
              "    </tr>\n",
              "    <tr>\n",
              "      <th>unique</th>\n",
              "      <td>NaN</td>\n",
              "      <td>4</td>\n",
              "      <td>3</td>\n",
              "      <td>NaN</td>\n",
              "      <td>12.0</td>\n",
              "      <td>23.0</td>\n",
              "      <td>2.0</td>\n",
              "      <td>25.0</td>\n",
              "      <td>8.0</td>\n",
              "      <td>4.0</td>\n",
              "    </tr>\n",
              "    <tr>\n",
              "      <th>top</th>\n",
              "      <td>NaN</td>\n",
              "      <td>a</td>\n",
              "      <td>a</td>\n",
              "      <td>NaN</td>\n",
              "      <td>9.0</td>\n",
              "      <td>2013.0</td>\n",
              "      <td>1.0</td>\n",
              "      <td>0.0</td>\n",
              "      <td>0.0</td>\n",
              "      <td>0.0</td>\n",
              "    </tr>\n",
              "    <tr>\n",
              "      <th>freq</th>\n",
              "      <td>NaN</td>\n",
              "      <td>602</td>\n",
              "      <td>593</td>\n",
              "      <td>NaN</td>\n",
              "      <td>125.0</td>\n",
              "      <td>83.0</td>\n",
              "      <td>571.0</td>\n",
              "      <td>544.0</td>\n",
              "      <td>544.0</td>\n",
              "      <td>544.0</td>\n",
              "    </tr>\n",
              "    <tr>\n",
              "      <th>mean</th>\n",
              "      <td>558.00000</td>\n",
              "      <td>NaN</td>\n",
              "      <td>NaN</td>\n",
              "      <td>5404.901079</td>\n",
              "      <td>NaN</td>\n",
              "      <td>NaN</td>\n",
              "      <td>NaN</td>\n",
              "      <td>NaN</td>\n",
              "      <td>NaN</td>\n",
              "      <td>NaN</td>\n",
              "    </tr>\n",
              "    <tr>\n",
              "      <th>std</th>\n",
              "      <td>322.01708</td>\n",
              "      <td>NaN</td>\n",
              "      <td>NaN</td>\n",
              "      <td>7663.174720</td>\n",
              "      <td>NaN</td>\n",
              "      <td>NaN</td>\n",
              "      <td>NaN</td>\n",
              "      <td>NaN</td>\n",
              "      <td>NaN</td>\n",
              "      <td>NaN</td>\n",
              "    </tr>\n",
              "    <tr>\n",
              "      <th>min</th>\n",
              "      <td>1.00000</td>\n",
              "      <td>NaN</td>\n",
              "      <td>NaN</td>\n",
              "      <td>20.000000</td>\n",
              "      <td>NaN</td>\n",
              "      <td>NaN</td>\n",
              "      <td>NaN</td>\n",
              "      <td>NaN</td>\n",
              "      <td>NaN</td>\n",
              "      <td>NaN</td>\n",
              "    </tr>\n",
              "    <tr>\n",
              "      <th>25%</th>\n",
              "      <td>279.50000</td>\n",
              "      <td>NaN</td>\n",
              "      <td>NaN</td>\n",
              "      <td>717.500000</td>\n",
              "      <td>NaN</td>\n",
              "      <td>NaN</td>\n",
              "      <td>NaN</td>\n",
              "      <td>NaN</td>\n",
              "      <td>NaN</td>\n",
              "      <td>NaN</td>\n",
              "    </tr>\n",
              "    <tr>\n",
              "      <th>50%</th>\n",
              "      <td>558.00000</td>\n",
              "      <td>NaN</td>\n",
              "      <td>NaN</td>\n",
              "      <td>2325.000000</td>\n",
              "      <td>NaN</td>\n",
              "      <td>NaN</td>\n",
              "      <td>NaN</td>\n",
              "      <td>NaN</td>\n",
              "      <td>NaN</td>\n",
              "      <td>NaN</td>\n",
              "    </tr>\n",
              "    <tr>\n",
              "      <th>75%</th>\n",
              "      <td>836.50000</td>\n",
              "      <td>NaN</td>\n",
              "      <td>NaN</td>\n",
              "      <td>6882.500000</td>\n",
              "      <td>NaN</td>\n",
              "      <td>NaN</td>\n",
              "      <td>NaN</td>\n",
              "      <td>NaN</td>\n",
              "      <td>NaN</td>\n",
              "      <td>NaN</td>\n",
              "    </tr>\n",
              "    <tr>\n",
              "      <th>max</th>\n",
              "      <td>1115.00000</td>\n",
              "      <td>NaN</td>\n",
              "      <td>NaN</td>\n",
              "      <td>75860.000000</td>\n",
              "      <td>NaN</td>\n",
              "      <td>NaN</td>\n",
              "      <td>NaN</td>\n",
              "      <td>NaN</td>\n",
              "      <td>NaN</td>\n",
              "      <td>NaN</td>\n",
              "    </tr>\n",
              "  </tbody>\n",
              "</table>\n",
              "</div>"
            ],
            "text/plain": [
              "             Store StoreType  ... Promo2SinceYear  PromoInterval\n",
              "count   1115.00000      1115  ...          1115.0         1115.0\n",
              "unique         NaN         4  ...             8.0            4.0\n",
              "top            NaN         a  ...             0.0            0.0\n",
              "freq           NaN       602  ...           544.0          544.0\n",
              "mean     558.00000       NaN  ...             NaN            NaN\n",
              "std      322.01708       NaN  ...             NaN            NaN\n",
              "min        1.00000       NaN  ...             NaN            NaN\n",
              "25%      279.50000       NaN  ...             NaN            NaN\n",
              "50%      558.00000       NaN  ...             NaN            NaN\n",
              "75%      836.50000       NaN  ...             NaN            NaN\n",
              "max     1115.00000       NaN  ...             NaN            NaN\n",
              "\n",
              "[11 rows x 10 columns]"
            ]
          },
          "metadata": {
            "tags": []
          },
          "execution_count": 40
        }
      ]
    },
    {
      "cell_type": "code",
      "metadata": {
        "id": "kuT13rTddxh-",
        "colab_type": "code",
        "outputId": "dc654e21-31a1-404b-bb9e-be48b980ff5b",
        "colab": {
          "base_uri": "https://localhost:8080/",
          "height": 202
        }
      },
      "source": [
        "stores_data.isnull().sum()"
      ],
      "execution_count": 41,
      "outputs": [
        {
          "output_type": "execute_result",
          "data": {
            "text/plain": [
              "Store                          0\n",
              "StoreType                      0\n",
              "Assortment                     0\n",
              "CompetitionDistance            3\n",
              "CompetitionOpenSinceMonth    354\n",
              "CompetitionOpenSinceYear     354\n",
              "Promo2                         0\n",
              "Promo2SinceWeek                0\n",
              "Promo2SinceYear                0\n",
              "PromoInterval                  0\n",
              "dtype: int64"
            ]
          },
          "metadata": {
            "tags": []
          },
          "execution_count": 41
        }
      ]
    },
    {
      "cell_type": "markdown",
      "metadata": {
        "id": "-d4PCWobKhJZ",
        "colab_type": "text"
      },
      "source": [
        "Dropping the CompetitionOpenSinceMonth & CompetitionOpenSinceYear columns since there is huge missing percentage "
      ]
    },
    {
      "cell_type": "code",
      "metadata": {
        "id": "sDkYSzn1d1rX",
        "colab_type": "code",
        "colab": {}
      },
      "source": [
        "stores_data_1 = stores_data.drop(columns = ['CompetitionOpenSinceMonth','CompetitionOpenSinceYear'])"
      ],
      "execution_count": 0,
      "outputs": []
    },
    {
      "cell_type": "code",
      "metadata": {
        "id": "-uNZ_l9pzY9Z",
        "colab_type": "code",
        "outputId": "3223a534-e1ad-4783-d105-7adb964cad0f",
        "colab": {
          "base_uri": "https://localhost:8080/",
          "height": 168
        }
      },
      "source": [
        "stores_data_1.isnull().sum()"
      ],
      "execution_count": 43,
      "outputs": [
        {
          "output_type": "execute_result",
          "data": {
            "text/plain": [
              "Store                  0\n",
              "StoreType              0\n",
              "Assortment             0\n",
              "CompetitionDistance    3\n",
              "Promo2                 0\n",
              "Promo2SinceWeek        0\n",
              "Promo2SinceYear        0\n",
              "PromoInterval          0\n",
              "dtype: int64"
            ]
          },
          "metadata": {
            "tags": []
          },
          "execution_count": 43
        }
      ]
    },
    {
      "cell_type": "markdown",
      "metadata": {
        "id": "2BHirqEKKz_N",
        "colab_type": "text"
      },
      "source": [
        "Imputing the missing values in Competition Distance column with the mean value"
      ]
    },
    {
      "cell_type": "code",
      "metadata": {
        "id": "Olq4kGyGd5sq",
        "colab_type": "code",
        "colab": {}
      },
      "source": [
        "stores_data_1['CompetitionDistance'].fillna(stores_data_1['CompetitionDistance'].mean(), inplace=True)"
      ],
      "execution_count": 0,
      "outputs": []
    },
    {
      "cell_type": "code",
      "metadata": {
        "id": "0F7czTDSeAAw",
        "colab_type": "code",
        "outputId": "271d2bc5-89c0-4edf-fb95-5bb57936fd3d",
        "colab": {
          "base_uri": "https://localhost:8080/",
          "height": 168
        }
      },
      "source": [
        "stores_data_1.isnull().sum()"
      ],
      "execution_count": 45,
      "outputs": [
        {
          "output_type": "execute_result",
          "data": {
            "text/plain": [
              "Store                  0\n",
              "StoreType              0\n",
              "Assortment             0\n",
              "CompetitionDistance    0\n",
              "Promo2                 0\n",
              "Promo2SinceWeek        0\n",
              "Promo2SinceYear        0\n",
              "PromoInterval          0\n",
              "dtype: int64"
            ]
          },
          "metadata": {
            "tags": []
          },
          "execution_count": 45
        }
      ]
    },
    {
      "cell_type": "markdown",
      "metadata": {
        "id": "RFaaX-SzMT7d",
        "colab_type": "text"
      },
      "source": [
        "Merging the train & store data frames"
      ]
    },
    {
      "cell_type": "code",
      "metadata": {
        "id": "e6ELf8Q7z_I3",
        "colab_type": "code",
        "colab": {}
      },
      "source": [
        "train_merge = pd.merge(train_data, stores_data_1, on = 'Store')"
      ],
      "execution_count": 0,
      "outputs": []
    },
    {
      "cell_type": "markdown",
      "metadata": {
        "id": "yE4EqaxIMcby",
        "colab_type": "text"
      },
      "source": [
        "Merging the test & store data frames"
      ]
    },
    {
      "cell_type": "code",
      "metadata": {
        "id": "jMCtnN9enY2Y",
        "colab_type": "code",
        "colab": {}
      },
      "source": [
        "test_merge = pd.merge(test_data, stores_data_1, on = 'Store')"
      ],
      "execution_count": 0,
      "outputs": []
    },
    {
      "cell_type": "code",
      "metadata": {
        "id": "a6WapPW12WHl",
        "colab_type": "code",
        "outputId": "32a579c1-4299-4f49-b058-1810cb7378e9",
        "colab": {
          "base_uri": "https://localhost:8080/",
          "height": 34
        }
      },
      "source": [
        "train_merge.shape"
      ],
      "execution_count": 48,
      "outputs": [
        {
          "output_type": "execute_result",
          "data": {
            "text/plain": [
              "(1017209, 18)"
            ]
          },
          "metadata": {
            "tags": []
          },
          "execution_count": 48
        }
      ]
    },
    {
      "cell_type": "code",
      "metadata": {
        "id": "NWdnyTY4ngrW",
        "colab_type": "code",
        "outputId": "778d08cd-0579-4fdd-b627-e6132776b06f",
        "colab": {
          "base_uri": "https://localhost:8080/",
          "height": 34
        }
      },
      "source": [
        "test_merge.shape"
      ],
      "execution_count": 49,
      "outputs": [
        {
          "output_type": "execute_result",
          "data": {
            "text/plain": [
              "(41088, 17)"
            ]
          },
          "metadata": {
            "tags": []
          },
          "execution_count": 49
        }
      ]
    },
    {
      "cell_type": "code",
      "metadata": {
        "id": "Unju1etx2Yg0",
        "colab_type": "code",
        "outputId": "2a82da59-9a3f-49cf-b795-a51439c654e1",
        "colab": {
          "base_uri": "https://localhost:8080/",
          "height": 206
        }
      },
      "source": [
        "train_merge.head(3)"
      ],
      "execution_count": 50,
      "outputs": [
        {
          "output_type": "execute_result",
          "data": {
            "text/html": [
              "<div>\n",
              "<style scoped>\n",
              "    .dataframe tbody tr th:only-of-type {\n",
              "        vertical-align: middle;\n",
              "    }\n",
              "\n",
              "    .dataframe tbody tr th {\n",
              "        vertical-align: top;\n",
              "    }\n",
              "\n",
              "    .dataframe thead th {\n",
              "        text-align: right;\n",
              "    }\n",
              "</style>\n",
              "<table border=\"1\" class=\"dataframe\">\n",
              "  <thead>\n",
              "    <tr style=\"text-align: right;\">\n",
              "      <th></th>\n",
              "      <th>Store</th>\n",
              "      <th>DayOfWeek</th>\n",
              "      <th>Date</th>\n",
              "      <th>Year</th>\n",
              "      <th>Month</th>\n",
              "      <th>Customers</th>\n",
              "      <th>Open</th>\n",
              "      <th>Promo</th>\n",
              "      <th>StateHoliday</th>\n",
              "      <th>SchoolHoliday</th>\n",
              "      <th>Sales</th>\n",
              "      <th>StoreType</th>\n",
              "      <th>Assortment</th>\n",
              "      <th>CompetitionDistance</th>\n",
              "      <th>Promo2</th>\n",
              "      <th>Promo2SinceWeek</th>\n",
              "      <th>Promo2SinceYear</th>\n",
              "      <th>PromoInterval</th>\n",
              "    </tr>\n",
              "  </thead>\n",
              "  <tbody>\n",
              "    <tr>\n",
              "      <th>0</th>\n",
              "      <td>1</td>\n",
              "      <td>5</td>\n",
              "      <td>2015-07-31</td>\n",
              "      <td>2015</td>\n",
              "      <td>7</td>\n",
              "      <td>555</td>\n",
              "      <td>1</td>\n",
              "      <td>1</td>\n",
              "      <td>0</td>\n",
              "      <td>1</td>\n",
              "      <td>5263</td>\n",
              "      <td>c</td>\n",
              "      <td>a</td>\n",
              "      <td>1270.0</td>\n",
              "      <td>0</td>\n",
              "      <td>0.0</td>\n",
              "      <td>0.0</td>\n",
              "      <td>0</td>\n",
              "    </tr>\n",
              "    <tr>\n",
              "      <th>1</th>\n",
              "      <td>1</td>\n",
              "      <td>4</td>\n",
              "      <td>2015-07-30</td>\n",
              "      <td>2015</td>\n",
              "      <td>7</td>\n",
              "      <td>546</td>\n",
              "      <td>1</td>\n",
              "      <td>1</td>\n",
              "      <td>0</td>\n",
              "      <td>1</td>\n",
              "      <td>5020</td>\n",
              "      <td>c</td>\n",
              "      <td>a</td>\n",
              "      <td>1270.0</td>\n",
              "      <td>0</td>\n",
              "      <td>0.0</td>\n",
              "      <td>0.0</td>\n",
              "      <td>0</td>\n",
              "    </tr>\n",
              "    <tr>\n",
              "      <th>2</th>\n",
              "      <td>1</td>\n",
              "      <td>3</td>\n",
              "      <td>2015-07-29</td>\n",
              "      <td>2015</td>\n",
              "      <td>7</td>\n",
              "      <td>523</td>\n",
              "      <td>1</td>\n",
              "      <td>1</td>\n",
              "      <td>0</td>\n",
              "      <td>1</td>\n",
              "      <td>4782</td>\n",
              "      <td>c</td>\n",
              "      <td>a</td>\n",
              "      <td>1270.0</td>\n",
              "      <td>0</td>\n",
              "      <td>0.0</td>\n",
              "      <td>0.0</td>\n",
              "      <td>0</td>\n",
              "    </tr>\n",
              "  </tbody>\n",
              "</table>\n",
              "</div>"
            ],
            "text/plain": [
              "   Store  DayOfWeek       Date  ...  Promo2SinceWeek  Promo2SinceYear  PromoInterval\n",
              "0      1          5 2015-07-31  ...              0.0              0.0              0\n",
              "1      1          4 2015-07-30  ...              0.0              0.0              0\n",
              "2      1          3 2015-07-29  ...              0.0              0.0              0\n",
              "\n",
              "[3 rows x 18 columns]"
            ]
          },
          "metadata": {
            "tags": []
          },
          "execution_count": 50
        }
      ]
    },
    {
      "cell_type": "code",
      "metadata": {
        "id": "dphmMKFO2b7t",
        "colab_type": "code",
        "outputId": "513340c6-5376-4f08-dfef-2635aa4d2113",
        "colab": {
          "base_uri": "https://localhost:8080/",
          "height": 336
        }
      },
      "source": [
        "train_merge.isnull().sum()"
      ],
      "execution_count": 51,
      "outputs": [
        {
          "output_type": "execute_result",
          "data": {
            "text/plain": [
              "Store                  0\n",
              "DayOfWeek              0\n",
              "Date                   0\n",
              "Year                   0\n",
              "Month                  0\n",
              "Customers              0\n",
              "Open                   0\n",
              "Promo                  0\n",
              "StateHoliday           0\n",
              "SchoolHoliday          0\n",
              "Sales                  0\n",
              "StoreType              0\n",
              "Assortment             0\n",
              "CompetitionDistance    0\n",
              "Promo2                 0\n",
              "Promo2SinceWeek        0\n",
              "Promo2SinceYear        0\n",
              "PromoInterval          0\n",
              "dtype: int64"
            ]
          },
          "metadata": {
            "tags": []
          },
          "execution_count": 51
        }
      ]
    },
    {
      "cell_type": "code",
      "metadata": {
        "id": "8ch5oUzznkD6",
        "colab_type": "code",
        "outputId": "d5262a44-03cb-4f47-c75c-c038429179e9",
        "colab": {
          "base_uri": "https://localhost:8080/",
          "height": 319
        }
      },
      "source": [
        "test_merge.isnull().sum()"
      ],
      "execution_count": 52,
      "outputs": [
        {
          "output_type": "execute_result",
          "data": {
            "text/plain": [
              "Id                      0\n",
              "Store                   0\n",
              "DayOfWeek               0\n",
              "Date                    0\n",
              "Open                   11\n",
              "Promo                   0\n",
              "StateHoliday            0\n",
              "SchoolHoliday           0\n",
              "Year                    0\n",
              "Month                   0\n",
              "StoreType               0\n",
              "Assortment              0\n",
              "CompetitionDistance     0\n",
              "Promo2                  0\n",
              "Promo2SinceWeek         0\n",
              "Promo2SinceYear         0\n",
              "PromoInterval           0\n",
              "dtype: int64"
            ]
          },
          "metadata": {
            "tags": []
          },
          "execution_count": 52
        }
      ]
    },
    {
      "cell_type": "code",
      "metadata": {
        "id": "9B5wq4tH34-h",
        "colab_type": "code",
        "outputId": "6e033768-ec30-4509-e623-ce4d9adbaf87",
        "colab": {
          "base_uri": "https://localhost:8080/",
          "height": 336
        }
      },
      "source": [
        "train_merge.dtypes"
      ],
      "execution_count": 53,
      "outputs": [
        {
          "output_type": "execute_result",
          "data": {
            "text/plain": [
              "Store                           int64\n",
              "DayOfWeek                       int64\n",
              "Date                   datetime64[ns]\n",
              "Year                            int64\n",
              "Month                           int64\n",
              "Customers                       int64\n",
              "Open                            int64\n",
              "Promo                           int64\n",
              "StateHoliday                   object\n",
              "SchoolHoliday                   int64\n",
              "Sales                           int64\n",
              "StoreType                    category\n",
              "Assortment                   category\n",
              "CompetitionDistance           float64\n",
              "Promo2                       category\n",
              "Promo2SinceWeek              category\n",
              "Promo2SinceYear              category\n",
              "PromoInterval                category\n",
              "dtype: object"
            ]
          },
          "metadata": {
            "tags": []
          },
          "execution_count": 53
        }
      ]
    },
    {
      "cell_type": "markdown",
      "metadata": {
        "id": "D30-nHGpNh0E",
        "colab_type": "text"
      },
      "source": [
        "DATA VISUALIZATION"
      ]
    },
    {
      "cell_type": "markdown",
      "metadata": {
        "id": "sD1QQKDXMlD9",
        "colab_type": "text"
      },
      "source": [
        "Checking the distribution of Target column"
      ]
    },
    {
      "cell_type": "code",
      "metadata": {
        "id": "VELO9vpDV7wz",
        "colab_type": "code",
        "outputId": "0a07cafd-b07c-4231-a8aa-986a512933a0",
        "colab": {
          "base_uri": "https://localhost:8080/",
          "height": 296
        }
      },
      "source": [
        "sns.distplot(train_merge['Sales'])"
      ],
      "execution_count": 54,
      "outputs": [
        {
          "output_type": "execute_result",
          "data": {
            "text/plain": [
              "<matplotlib.axes._subplots.AxesSubplot at 0x7f8e1b1bff28>"
            ]
          },
          "metadata": {
            "tags": []
          },
          "execution_count": 54
        },
        {
          "output_type": "display_data",
          "data": {
            "image/png": "[encoded data removed]",
            "text/plain": [
              "<Figure size 432x288 with 1 Axes>"
            ]
          },
          "metadata": {
            "tags": []
          }
        }
      ]
    },
    {
      "cell_type": "markdown",
      "metadata": {
        "id": "mqZkcYUuMqws",
        "colab_type": "text"
      },
      "source": [
        "Finding the corelations among the numerical features in the data"
      ]
    },
    {
      "cell_type": "code",
      "metadata": {
        "id": "H5CjeJikmzC9",
        "colab_type": "code",
        "outputId": "c1a309f0-7942-49b5-c03a-0a8b83838a5a",
        "colab": {
          "base_uri": "https://localhost:8080/",
          "height": 364
        }
      },
      "source": [
        "plt.figure( figsize=(10,4))\n",
        "corr = train_merge.corr()\n",
        "ax = sns.heatmap(corr,annot =True, linewidth = 5, cbar = True)  "
      ],
      "execution_count": 55,
      "outputs": [
        {
          "output_type": "display_data",
          "data": {
            "image/png": "[encoded data removed]",
            "text/plain": [
              "<Figure size 720x288 with 2 Axes>"
            ]
          },
          "metadata": {
            "tags": []
          }
        }
      ]
    },
    {
      "cell_type": "markdown",
      "metadata": {
        "id": "kVJQdRYwM4ed",
        "colab_type": "text"
      },
      "source": [
        "Counting the number of stores with respect to Day of Week & Open columns in the data"
      ]
    },
    {
      "cell_type": "code",
      "metadata": {
        "id": "wOVzbB-YGHhf",
        "colab_type": "code",
        "outputId": "4a98ee49-38c8-465e-96aa-481814e0cc31",
        "colab": {
          "base_uri": "https://localhost:8080/",
          "height": 279
        }
      },
      "source": [
        "ax = sns.countplot(x='Open', hue='DayOfWeek', data=train_merge, palette='Set1')"
      ],
      "execution_count": 56,
      "outputs": [
        {
          "output_type": "display_data",
          "data": {
            "image/png": "[encoded data removed]",
            "text/plain": [
              "<Figure size 432x288 with 1 Axes>"
            ]
          },
          "metadata": {
            "tags": []
          }
        }
      ]
    },
    {
      "cell_type": "code",
      "metadata": {
        "id": "i-Ke81YMt9wN",
        "colab_type": "code",
        "colab": {}
      },
      "source": [
        "import itertools"
      ],
      "execution_count": 0,
      "outputs": []
    },
    {
      "cell_type": "code",
      "metadata": {
        "id": "K1IEhWokvh6C",
        "colab_type": "code",
        "colab": {}
      },
      "source": [
        "train_merge['SalesperCustomer']=train_merge['Sales']/train_merge['Customers']"
      ],
      "execution_count": 0,
      "outputs": []
    },
    {
      "cell_type": "code",
      "metadata": {
        "id": "VA0N68hS_kXH",
        "colab_type": "code",
        "outputId": "f5f29978-4682-4dc3-9498-b818ce73f914",
        "colab": {
          "base_uri": "https://localhost:8080/",
          "height": 34
        }
      },
      "source": [
        "train_merge['SalesperCustomer'].isnull().sum()"
      ],
      "execution_count": 59,
      "outputs": [
        {
          "output_type": "execute_result",
          "data": {
            "text/plain": [
              "172869"
            ]
          },
          "metadata": {
            "tags": []
          },
          "execution_count": 59
        }
      ]
    },
    {
      "cell_type": "code",
      "metadata": {
        "id": "LkgCAOhlGZTb",
        "colab_type": "code",
        "outputId": "2bd4343f-da20-47bb-ba8a-57ef3817578e",
        "colab": {
          "base_uri": "https://localhost:8080/",
          "height": 623
        }
      },
      "source": [
        "fig, axes = plt.subplots(2, 3,figsize=(17,10) )\n",
        "palette = itertools.cycle(sns.color_palette(n_colors=4))\n",
        "plt.subplots_adjust(hspace = 0.28)\n",
        "#axes[1].df_train_store.groupby(by=\"StoreType\").count().Store.plot(kind='bar')\n",
        "axes[0,0].bar(train_merge.groupby(by=\"StoreType\").count().Store.index,train_merge.groupby(by=\"StoreType\").count().Store,color=[next(palette),next(palette),next(palette),next(palette)])\n",
        "axes[0,0].set_title(\"Number of Stores per Store Type \\n Fig 1.1\")\n",
        "axes[0,1].bar(train_merge.groupby(by=\"StoreType\").sum().Sales.index,train_merge.groupby(by=\"StoreType\").sum().Sales/1e9,color=[next(palette),next(palette),next(palette),next(palette)])\n",
        "axes[0,1].set_title(\"Total Sales per Store Type (in Billions) \\n Fig 1.2\")\n",
        "axes[0,2].bar(train_merge.groupby(by=\"StoreType\").sum().Customers.index,train_merge.groupby(by=\"StoreType\").sum().Customers/1e6,color=[next(palette),next(palette),next(palette),next(palette)])\n",
        "axes[0,2].set_title(\"Total Number of Customers per Store Type (in Millions) \\n Fig 1.3\")\n",
        "axes[1,0].bar(train_merge.groupby(by=\"StoreType\").sum().Customers.index,train_merge.groupby(by=\"StoreType\").Sales.mean(),color=[next(palette),next(palette),next(palette),next(palette)])\n",
        "axes[1,0].set_title(\"Average Sales per Store Type \\n Fig 1.4\")\n",
        "axes[1,1].bar(train_merge.groupby(by=\"StoreType\").sum().Customers.index,train_merge.groupby(by=\"StoreType\").Customers.mean(),color=[next(palette),next(palette),next(palette),next(palette)])\n",
        "axes[1,1].set_title(\"Average Number of Customers per Store Type \\n Fig 1.5\")\n",
        "axes[1,2].bar(train_merge.groupby(by=\"StoreType\").sum().Sales.index,train_merge.groupby(by=\"StoreType\").SalesperCustomer.mean(),color=[next(palette),next(palette),next(palette),next(palette)])\n",
        "axes[1,2].set_title(\"Average Spending per Customer in each Store Type \\n Fig 1.6\")\n",
        "plt.show()"
      ],
      "execution_count": 60,
      "outputs": [
        {
          "output_type": "display_data",
          "data": {
            "image/png": "[encoded data removed]",
            "text/plain": [
              "<Figure size 1224x720 with 6 Axes>"
            ]
          },
          "metadata": {
            "tags": []
          }
        }
      ]
    },
    {
      "cell_type": "markdown",
      "metadata": {
        "id": "tdt_RDwcNPhH",
        "colab_type": "text"
      },
      "source": [
        "Plotting the quantity of Sales with respect to Date "
      ]
    },
    {
      "cell_type": "code",
      "metadata": {
        "id": "0hHNONb5DNmC",
        "colab_type": "code",
        "outputId": "ff344fa5-a6d7-465d-8e76-05e18cb04384",
        "colab": {
          "base_uri": "https://localhost:8080/",
          "height": 562
        }
      },
      "source": [
        "train_merge['Date'] = pd.to_datetime(train_merge['Date'],format = '%Y-%m-%d')\n",
        "store_id = train_merge.Store.unique()[0]\n",
        "print(store_id)\n",
        "store_rows = train_merge[train_merge['Store'] == store_id]\n",
        "print(store_rows.shape)\n",
        "store_rows.resample('1D',on = 'Date')['Sales'].sum().plot.line(figsize = (18,8))"
      ],
      "execution_count": 61,
      "outputs": [
        {
          "output_type": "stream",
          "text": [
            "1\n",
            "(942, 19)\n"
          ],
          "name": "stdout"
        },
        {
          "output_type": "execute_result",
          "data": {
            "text/plain": [
              "<matplotlib.axes._subplots.AxesSubplot at 0x7f8e2417dbe0>"
            ]
          },
          "metadata": {
            "tags": []
          },
          "execution_count": 61
        },
        {
          "output_type": "display_data",
          "data": {
            "image/png": "[encoded data removed]",
            "text/plain": [
              "<Figure size 1296x576 with 1 Axes>"
            ]
          },
          "metadata": {
            "tags": []
          }
        }
      ]
    },
    {
      "cell_type": "markdown",
      "metadata": {
        "id": "5gA_fcBvN2Ny",
        "colab_type": "text"
      },
      "source": [
        "Plotting the average value of sales with respect to Day of Week"
      ]
    },
    {
      "cell_type": "code",
      "metadata": {
        "id": "YScEGiFiWNjL",
        "colab_type": "code",
        "outputId": "b776f40e-3efc-4472-85d9-f9748d54a885",
        "colab": {
          "base_uri": "https://localhost:8080/",
          "height": 293
        }
      },
      "source": [
        "avg_per_weekday = train_merge[['Sales', 'DayOfWeek']].groupby('DayOfWeek').mean()\n",
        "avg_per_weekday.reset_index().plot(kind='bar', x='DayOfWeek', y='Sales')"
      ],
      "execution_count": 62,
      "outputs": [
        {
          "output_type": "execute_result",
          "data": {
            "text/plain": [
              "<matplotlib.axes._subplots.AxesSubplot at 0x7f8e243b4518>"
            ]
          },
          "metadata": {
            "tags": []
          },
          "execution_count": 62
        },
        {
          "output_type": "display_data",
          "data": {
            "image/png": "[encoded data removed]",
            "text/plain": [
              "<Figure size 432x288 with 1 Axes>"
            ]
          },
          "metadata": {
            "tags": []
          }
        }
      ]
    },
    {
      "cell_type": "markdown",
      "metadata": {
        "id": "jJHnYkE7N-Gv",
        "colab_type": "text"
      },
      "source": [
        "Plotting the average value of Sales & Customers with respect to Day of Week & Promo columns"
      ]
    },
    {
      "cell_type": "code",
      "metadata": {
        "id": "YPoMZ5BuWTv4",
        "colab_type": "code",
        "outputId": "287a0182-4980-4b2b-f04f-d31b1660b8cd",
        "colab": {
          "base_uri": "https://localhost:8080/",
          "height": 296
        }
      },
      "source": [
        "avg_hist_by_month = train_merge[['Sales', 'Customers', 'Promo']].groupby(['Promo']).mean()\n",
        "sns.barplot(x=\"DayOfWeek\", y=\"Sales\", hue=\"Promo\", order=[0, 1, 2, 3, 4, 5, 6], data=train_merge)"
      ],
      "execution_count": 63,
      "outputs": [
        {
          "output_type": "execute_result",
          "data": {
            "text/plain": [
              "<matplotlib.axes._subplots.AxesSubplot at 0x7f8e2403b198>"
            ]
          },
          "metadata": {
            "tags": []
          },
          "execution_count": 63
        },
        {
          "output_type": "display_data",
          "data": {
            "image/png": "[encoded data removed]",
            "text/plain": [
              "<Figure size 432x288 with 1 Axes>"
            ]
          },
          "metadata": {
            "tags": []
          }
        }
      ]
    },
    {
      "cell_type": "markdown",
      "metadata": {
        "id": "XjxtM3PPOOcV",
        "colab_type": "text"
      },
      "source": [
        "Plotting the average value of Sales & Customers with respect to Promo column"
      ]
    },
    {
      "cell_type": "code",
      "metadata": {
        "id": "6ob_edxnX2m6",
        "colab_type": "code",
        "outputId": "a1b9afd1-b4f2-4385-d448-91cb66d76995",
        "colab": {
          "base_uri": "https://localhost:8080/",
          "height": 293
        }
      },
      "source": [
        "avg_promotion = train_merge[['Sales', 'Customers', 'Promo']].groupby('Promo').mean()\n",
        "avg_promotion.plot(kind='bar')"
      ],
      "execution_count": 64,
      "outputs": [
        {
          "output_type": "execute_result",
          "data": {
            "text/plain": [
              "<matplotlib.axes._subplots.AxesSubplot at 0x7f8e24146668>"
            ]
          },
          "metadata": {
            "tags": []
          },
          "execution_count": 64
        },
        {
          "output_type": "display_data",
          "data": {
            "image/png": "[encoded data removed]",
            "text/plain": [
              "<Figure size 432x288 with 1 Axes>"
            ]
          },
          "metadata": {
            "tags": []
          }
        }
      ]
    },
    {
      "cell_type": "markdown",
      "metadata": {
        "id": "kCCr3DuuOblH",
        "colab_type": "text"
      },
      "source": [
        "Plotting the average value of Sales & Customers with respect to State Holiday column"
      ]
    },
    {
      "cell_type": "code",
      "metadata": {
        "id": "9qIdim3JX6iF",
        "colab_type": "code",
        "outputId": "17af8ee6-c1fa-47ca-f487-01a62dbe9819",
        "colab": {
          "base_uri": "https://localhost:8080/",
          "height": 293
        }
      },
      "source": [
        "avg_stateholiday = train_merge[['Sales', 'Customers', 'StateHoliday']].groupby('StateHoliday').mean()\n",
        "avg_stateholiday.plot(kind='bar')"
      ],
      "execution_count": 65,
      "outputs": [
        {
          "output_type": "execute_result",
          "data": {
            "text/plain": [
              "<matplotlib.axes._subplots.AxesSubplot at 0x7f8e23e835c0>"
            ]
          },
          "metadata": {
            "tags": []
          },
          "execution_count": 65
        },
        {
          "output_type": "display_data",
          "data": {
            "image/png": "[encoded data removed]",
            "text/plain": [
              "<Figure size 432x288 with 1 Axes>"
            ]
          },
          "metadata": {
            "tags": []
          }
        }
      ]
    },
    {
      "cell_type": "code",
      "metadata": {
        "id": "_hsAVAJMO_g-",
        "colab_type": "code",
        "outputId": "4132eb3c-feb9-4655-d5c0-c19c2cb41f68",
        "colab": {
          "base_uri": "https://localhost:8080/",
          "height": 353
        }
      },
      "source": [
        "train_merge.dtypes"
      ],
      "execution_count": 66,
      "outputs": [
        {
          "output_type": "execute_result",
          "data": {
            "text/plain": [
              "Store                           int64\n",
              "DayOfWeek                       int64\n",
              "Date                   datetime64[ns]\n",
              "Year                            int64\n",
              "Month                           int64\n",
              "Customers                       int64\n",
              "Open                            int64\n",
              "Promo                           int64\n",
              "StateHoliday                   object\n",
              "SchoolHoliday                   int64\n",
              "Sales                           int64\n",
              "StoreType                    category\n",
              "Assortment                   category\n",
              "CompetitionDistance           float64\n",
              "Promo2                       category\n",
              "Promo2SinceWeek              category\n",
              "Promo2SinceYear              category\n",
              "PromoInterval                category\n",
              "SalesperCustomer              float64\n",
              "dtype: object"
            ]
          },
          "metadata": {
            "tags": []
          },
          "execution_count": 66
        }
      ]
    },
    {
      "cell_type": "markdown",
      "metadata": {
        "id": "SL7ZtvfQOpn6",
        "colab_type": "text"
      },
      "source": [
        "Dropping the Unnecessary Columns"
      ]
    },
    {
      "cell_type": "code",
      "metadata": {
        "id": "OJ7T3tTraD8e",
        "colab_type": "code",
        "colab": {}
      },
      "source": [
        "train_merge.drop(columns=['Date','Store','SalesperCustomer','Customers'],inplace=True)"
      ],
      "execution_count": 0,
      "outputs": []
    },
    {
      "cell_type": "code",
      "metadata": {
        "id": "4lnHPTSDnyCg",
        "colab_type": "code",
        "colab": {}
      },
      "source": [
        "test_merge.drop(columns=['Date','Store'],inplace=True)"
      ],
      "execution_count": 0,
      "outputs": []
    },
    {
      "cell_type": "markdown",
      "metadata": {
        "id": "LJ1J5bg5Oy2g",
        "colab_type": "text"
      },
      "source": [
        "Splitting the Data into Train & Validation data"
      ]
    },
    {
      "cell_type": "code",
      "metadata": {
        "id": "8LxUddwqkNVf",
        "colab_type": "code",
        "colab": {}
      },
      "source": [
        "y = train_merge[\"Sales\"]\n",
        "x = train_merge.drop([\"Sales\"], axis = 1)\n",
        "y = np.log(train_merge[\"Sales\"]+1)\n",
        "X_train, X_test, y_train, y_test = train_test_split(x, y, test_size = 0.2, random_state = 456)"
      ],
      "execution_count": 0,
      "outputs": []
    },
    {
      "cell_type": "markdown",
      "metadata": {
        "id": "x86vbDFxPOSf",
        "colab_type": "text"
      },
      "source": [
        "Changing the Data Types"
      ]
    },
    {
      "cell_type": "code",
      "metadata": {
        "id": "5UR-V54ukhIn",
        "colab_type": "code",
        "colab": {}
      },
      "source": [
        "columns = ['StateHoliday','SchoolHoliday','Open','Promo','DayOfWeek','Year','Month']\n",
        "for col in columns:\n",
        "    X_train[col]=X_train[col].astype('category')\n"
      ],
      "execution_count": 0,
      "outputs": []
    },
    {
      "cell_type": "code",
      "metadata": {
        "id": "US34QiNsPCw7",
        "colab_type": "code",
        "colab": {}
      },
      "source": [
        "columns = ['StateHoliday','SchoolHoliday','Open','Promo','DayOfWeek','Year','Month']\n",
        "for col in columns:\n",
        "    test_merge[col]=test_merge[col].astype('category')"
      ],
      "execution_count": 0,
      "outputs": []
    },
    {
      "cell_type": "code",
      "metadata": {
        "id": "doJS56GZkm5v",
        "colab_type": "code",
        "outputId": "104b0a8c-09c8-45c7-be8c-54f94252c05f",
        "colab": {
          "base_uri": "https://localhost:8080/",
          "height": 34
        }
      },
      "source": [
        "num_attr=list(X_train.select_dtypes(['int64','float64']).columns)\n",
        "num_attr"
      ],
      "execution_count": 72,
      "outputs": [
        {
          "output_type": "execute_result",
          "data": {
            "text/plain": [
              "['CompetitionDistance']"
            ]
          },
          "metadata": {
            "tags": []
          },
          "execution_count": 72
        }
      ]
    },
    {
      "cell_type": "code",
      "metadata": {
        "id": "2lELpEZanBSu",
        "colab_type": "code",
        "outputId": "b8e1b67a-1405-49a5-fcf2-b9c8ae7667ca",
        "colab": {
          "base_uri": "https://localhost:8080/",
          "height": 235
        }
      },
      "source": [
        "cat_attr = list(X_train.select_dtypes('category').columns)\n",
        "cat_attr"
      ],
      "execution_count": 73,
      "outputs": [
        {
          "output_type": "execute_result",
          "data": {
            "text/plain": [
              "['DayOfWeek',\n",
              " 'Year',\n",
              " 'Month',\n",
              " 'Open',\n",
              " 'Promo',\n",
              " 'StateHoliday',\n",
              " 'SchoolHoliday',\n",
              " 'StoreType',\n",
              " 'Assortment',\n",
              " 'Promo2',\n",
              " 'Promo2SinceWeek',\n",
              " 'Promo2SinceYear',\n",
              " 'PromoInterval']"
            ]
          },
          "metadata": {
            "tags": []
          },
          "execution_count": 73
        }
      ]
    },
    {
      "cell_type": "code",
      "metadata": {
        "id": "DRDtUgYi2OMW",
        "colab_type": "code",
        "colab": {}
      },
      "source": [
        "cat_attr1 = list(X_train.select_dtypes('category').columns)\n",
        "cat_attr1.remove('PromoInterval')"
      ],
      "execution_count": 0,
      "outputs": []
    },
    {
      "cell_type": "code",
      "metadata": {
        "id": "anhmL2cy16jS",
        "colab_type": "code",
        "outputId": "f5931a8b-0ce2-4126-8a7e-555dd740006f",
        "colab": {
          "base_uri": "https://localhost:8080/",
          "height": 136
        }
      },
      "source": [
        "X_train[cat_attr].head(3)"
      ],
      "execution_count": 75,
      "outputs": [
        {
          "output_type": "execute_result",
          "data": {
            "text/html": [
              "<div>\n",
              "<style scoped>\n",
              "    .dataframe tbody tr th:only-of-type {\n",
              "        vertical-align: middle;\n",
              "    }\n",
              "\n",
              "    .dataframe tbody tr th {\n",
              "        vertical-align: top;\n",
              "    }\n",
              "\n",
              "    .dataframe thead th {\n",
              "        text-align: right;\n",
              "    }\n",
              "</style>\n",
              "<table border=\"1\" class=\"dataframe\">\n",
              "  <thead>\n",
              "    <tr style=\"text-align: right;\">\n",
              "      <th></th>\n",
              "      <th>DayOfWeek</th>\n",
              "      <th>Year</th>\n",
              "      <th>Month</th>\n",
              "      <th>Open</th>\n",
              "      <th>Promo</th>\n",
              "      <th>StateHoliday</th>\n",
              "      <th>SchoolHoliday</th>\n",
              "      <th>StoreType</th>\n",
              "      <th>Assortment</th>\n",
              "      <th>Promo2</th>\n",
              "      <th>Promo2SinceWeek</th>\n",
              "      <th>Promo2SinceYear</th>\n",
              "      <th>PromoInterval</th>\n",
              "    </tr>\n",
              "  </thead>\n",
              "  <tbody>\n",
              "    <tr>\n",
              "      <th>767644</th>\n",
              "      <td>3</td>\n",
              "      <td>2014</td>\n",
              "      <td>3</td>\n",
              "      <td>1</td>\n",
              "      <td>1</td>\n",
              "      <td>0</td>\n",
              "      <td>0</td>\n",
              "      <td>c</td>\n",
              "      <td>a</td>\n",
              "      <td>0</td>\n",
              "      <td>0.0</td>\n",
              "      <td>0.0</td>\n",
              "      <td>0</td>\n",
              "    </tr>\n",
              "    <tr>\n",
              "      <th>924540</th>\n",
              "      <td>1</td>\n",
              "      <td>2013</td>\n",
              "      <td>10</td>\n",
              "      <td>1</td>\n",
              "      <td>0</td>\n",
              "      <td>0</td>\n",
              "      <td>0</td>\n",
              "      <td>a</td>\n",
              "      <td>c</td>\n",
              "      <td>1</td>\n",
              "      <td>31.0</td>\n",
              "      <td>2013.0</td>\n",
              "      <td>Jan,Apr,Jul,Oct</td>\n",
              "    </tr>\n",
              "    <tr>\n",
              "      <th>710752</th>\n",
              "      <td>5</td>\n",
              "      <td>2014</td>\n",
              "      <td>10</td>\n",
              "      <td>1</td>\n",
              "      <td>1</td>\n",
              "      <td>0</td>\n",
              "      <td>0</td>\n",
              "      <td>a</td>\n",
              "      <td>a</td>\n",
              "      <td>0</td>\n",
              "      <td>0.0</td>\n",
              "      <td>0.0</td>\n",
              "      <td>0</td>\n",
              "    </tr>\n",
              "  </tbody>\n",
              "</table>\n",
              "</div>"
            ],
            "text/plain": [
              "       DayOfWeek  Year Month  ... Promo2SinceWeek Promo2SinceYear    PromoInterval\n",
              "767644         3  2014     3  ...             0.0             0.0                0\n",
              "924540         1  2013    10  ...            31.0          2013.0  Jan,Apr,Jul,Oct\n",
              "710752         5  2014    10  ...             0.0             0.0                0\n",
              "\n",
              "[3 rows x 13 columns]"
            ]
          },
          "metadata": {
            "tags": []
          },
          "execution_count": 75
        }
      ]
    },
    {
      "cell_type": "markdown",
      "metadata": {
        "id": "IsVeR55lPWkw",
        "colab_type": "text"
      },
      "source": [
        "Imputing the missing values in Categorical columns"
      ]
    },
    {
      "cell_type": "code",
      "metadata": {
        "id": "1TNuR-UR0D4f",
        "colab_type": "code",
        "colab": {}
      },
      "source": [
        "from sklearn.impute import SimpleImputer\n",
        "\n",
        "imputer = SimpleImputer(strategy='most_frequent')\n",
        "imputer = imputer.fit(X_train[cat_attr1])\n",
        "\n",
        "X_train[cat_attr1] = imputer.transform(X_train[cat_attr1])\n",
        "X_test[cat_attr1] = imputer.transform(X_test[cat_attr1])\n",
        "test_merge[cat_attr1] = imputer.transform(test_merge[cat_attr1])"
      ],
      "execution_count": 0,
      "outputs": []
    },
    {
      "cell_type": "code",
      "metadata": {
        "id": "oblAtE7izpOf",
        "colab_type": "code",
        "outputId": "81a94264-cbfc-4ffb-fbe1-973346cc9bd8",
        "colab": {
          "base_uri": "https://localhost:8080/",
          "height": 286
        }
      },
      "source": [
        "test_merge.isnull().sum()"
      ],
      "execution_count": 77,
      "outputs": [
        {
          "output_type": "execute_result",
          "data": {
            "text/plain": [
              "Id                     0\n",
              "DayOfWeek              0\n",
              "Open                   0\n",
              "Promo                  0\n",
              "StateHoliday           0\n",
              "SchoolHoliday          0\n",
              "Year                   0\n",
              "Month                  0\n",
              "StoreType              0\n",
              "Assortment             0\n",
              "CompetitionDistance    0\n",
              "Promo2                 0\n",
              "Promo2SinceWeek        0\n",
              "Promo2SinceYear        0\n",
              "PromoInterval          0\n",
              "dtype: int64"
            ]
          },
          "metadata": {
            "tags": []
          },
          "execution_count": 77
        }
      ]
    },
    {
      "cell_type": "markdown",
      "metadata": {
        "id": "nq02c-1hPemR",
        "colab_type": "text"
      },
      "source": [
        "Standardizing the Numerical features"
      ]
    },
    {
      "cell_type": "code",
      "metadata": {
        "id": "JmcXnU-lnD5t",
        "colab_type": "code",
        "outputId": "3cddc13a-6691-484e-b7dd-569df43bfcfc",
        "colab": {
          "base_uri": "https://localhost:8080/",
          "height": 34
        }
      },
      "source": [
        "from sklearn.preprocessing import StandardScaler\n",
        "scaler = StandardScaler()\n",
        "scaler.fit(X_train[num_attr])"
      ],
      "execution_count": 78,
      "outputs": [
        {
          "output_type": "execute_result",
          "data": {
            "text/plain": [
              "StandardScaler(copy=True, with_mean=True, with_std=True)"
            ]
          },
          "metadata": {
            "tags": []
          },
          "execution_count": 78
        }
      ]
    },
    {
      "cell_type": "code",
      "metadata": {
        "id": "4DNPlALDnHsE",
        "colab_type": "code",
        "outputId": "09e8f46e-6daa-4822-876d-7449f5d827e4",
        "colab": {
          "base_uri": "https://localhost:8080/",
          "height": 134
        }
      },
      "source": [
        "scaler.transform(X_train[num_attr])\n",
        "scaler.transform(X_test[num_attr])\n",
        "scaler.transform(test_merge[num_attr])"
      ],
      "execution_count": 79,
      "outputs": [
        {
          "output_type": "execute_result",
          "data": {
            "text/plain": [
              "array([[-0.54018849],\n",
              "       [-0.54018849],\n",
              "       [-0.54018849],\n",
              "       ...,\n",
              "       [-0.01127013],\n",
              "       [-0.01127013],\n",
              "       [-0.01127013]])"
            ]
          },
          "metadata": {
            "tags": []
          },
          "execution_count": 79
        }
      ]
    },
    {
      "cell_type": "markdown",
      "metadata": {
        "id": "S7hj3yn8Pk0H",
        "colab_type": "text"
      },
      "source": [
        "### Categorical Embedding - Dummyfying the Categorical features"
      ]
    },
    {
      "cell_type": "code",
      "metadata": {
        "id": "M21SqDgNnN3H",
        "colab_type": "code",
        "colab": {}
      },
      "source": [
        "X_train = pd.get_dummies(columns=cat_attr,data=X_train,drop_first=True)\n",
        "X_test = pd.get_dummies(columns=cat_attr,data=X_test,drop_first=True)\n",
        "test_merge = pd.get_dummies(columns=cat_attr,data=test_merge,drop_first=True)"
      ],
      "execution_count": 0,
      "outputs": []
    },
    {
      "cell_type": "code",
      "metadata": {
        "id": "L-lENjZ-nR9L",
        "colab_type": "code",
        "colab": {}
      },
      "source": [
        "X_test = X_test.reindex(columns = X_train.columns, fill_value=0)\n",
        "test_merge = test_merge.reindex(columns = X_train.columns, fill_value=0)"
      ],
      "execution_count": 0,
      "outputs": []
    },
    {
      "cell_type": "code",
      "metadata": {
        "id": "cCArrrBInWkI",
        "colab_type": "code",
        "colab": {}
      },
      "source": [
        "from sklearn.model_selection import GridSearchCV, cross_val_score, StratifiedKFold\n",
        "\n",
        "from sklearn.linear_model import LinearRegression\n",
        "from sklearn.tree import DecisionTreeRegressor\n",
        "from sklearn.ensemble import RandomForestRegressor"
      ],
      "execution_count": 0,
      "outputs": []
    },
    {
      "cell_type": "markdown",
      "metadata": {
        "id": "hVuIlg2APqF9",
        "colab_type": "text"
      },
      "source": [
        "### Model Building with Cross Validation Strategy & Hyper Parameters Tuning"
      ]
    },
    {
      "cell_type": "markdown",
      "metadata": {
        "id": "Qgn1qbw_PtgF",
        "colab_type": "text"
      },
      "source": [
        "1. Applying Linear Regression model"
      ]
    },
    {
      "cell_type": "code",
      "metadata": {
        "id": "ymTvhl5Qn3F7",
        "colab_type": "code",
        "colab": {}
      },
      "source": [
        "lin_reg = LinearRegression()"
      ],
      "execution_count": 0,
      "outputs": []
    },
    {
      "cell_type": "code",
      "metadata": {
        "id": "NCmUCheXoZts",
        "colab_type": "code",
        "outputId": "6da36345-b32d-4acb-b2e4-f47d28af318c",
        "colab": {
          "base_uri": "https://localhost:8080/",
          "height": 34
        }
      },
      "source": [
        "lin_reg.fit(X_train, y_train)"
      ],
      "execution_count": 84,
      "outputs": [
        {
          "output_type": "execute_result",
          "data": {
            "text/plain": [
              "LinearRegression(copy_X=True, fit_intercept=True, n_jobs=None, normalize=False)"
            ]
          },
          "metadata": {
            "tags": []
          },
          "execution_count": 84
        }
      ]
    },
    {
      "cell_type": "code",
      "metadata": {
        "id": "_INReVXQofdl",
        "colab_type": "code",
        "colab": {}
      },
      "source": [
        "train_pred = lin_reg.predict(X_train)\n",
        "test_pred = lin_reg.predict(X_test)"
      ],
      "execution_count": 0,
      "outputs": []
    },
    {
      "cell_type": "markdown",
      "metadata": {
        "id": "6bmWzFNpPy-V",
        "colab_type": "text"
      },
      "source": [
        "Defining the evaluation metric i.e. RMSPE metric "
      ]
    },
    {
      "cell_type": "code",
      "metadata": {
        "id": "MwzbjC38IVMm",
        "colab_type": "code",
        "colab": {}
      },
      "source": [
        "def RMSPE_metrics(y_true, y_pred):\n",
        "    error = (y_true - y_pred)/y_pred\n",
        "    return np.sqrt(np.mean(error**2)*100)"
      ],
      "execution_count": 0,
      "outputs": []
    },
    {
      "cell_type": "code",
      "metadata": {
        "id": "DJyJs9CxJTHG",
        "colab_type": "code",
        "colab": {}
      },
      "source": [
        "train_set_rmspe = RMSPE_metrics(y_train, train_pred)\n",
        "test_set_rmspe = RMSPE_metrics(y_test, test_pred)"
      ],
      "execution_count": 0,
      "outputs": []
    },
    {
      "cell_type": "markdown",
      "metadata": {
        "id": "NXAprYCrQA47",
        "colab_type": "text"
      },
      "source": [
        "Checking the RMSPE values of Train & validation Data"
      ]
    },
    {
      "cell_type": "code",
      "metadata": {
        "id": "EeLrN83dJ5Bz",
        "colab_type": "code",
        "outputId": "5ee94b78-a856-429f-e867-e962642849ac",
        "colab": {
          "base_uri": "https://localhost:8080/",
          "height": 50
        }
      },
      "source": [
        "print(train_set_rmspe)\n",
        "print(test_set_rmspe)"
      ],
      "execution_count": 88,
      "outputs": [
        {
          "output_type": "stream",
          "text": [
            "4.140065927457879\n",
            "4.13864225696411\n"
          ],
          "name": "stdout"
        }
      ]
    },
    {
      "cell_type": "markdown",
      "metadata": {
        "id": "k3kWNW9ZQOY_",
        "colab_type": "text"
      },
      "source": [
        "Doing Predictions on the Test Data"
      ]
    },
    {
      "cell_type": "code",
      "metadata": {
        "id": "qGL-dbErpQTn",
        "colab_type": "code",
        "colab": {}
      },
      "source": [
        "TEST_pred_lin_reg = lin_reg.predict(test_merge)\n",
        "TEST_pred_lin_reg_inv = np.exp(TEST_pred_lin_reg)-1"
      ],
      "execution_count": 0,
      "outputs": []
    },
    {
      "cell_type": "code",
      "metadata": {
        "id": "Y1XD21QUvkIn",
        "colab_type": "code",
        "colab": {
          "base_uri": "https://localhost:8080/",
          "height": 34
        },
        "outputId": "dd9acd65-81a2-47a7-c360-6abdb7af71cd"
      },
      "source": [
        "DF = pd.DataFrame(list(zip(Test_data['Id'],TEST_pred_lin_reg_inv)),columns=['Id','Sales'])\n",
        "DF.to_csv(\"LinRegPredictions.csv\",index=False)\n",
        "DF.shape"
      ],
      "execution_count": 90,
      "outputs": [
        {
          "output_type": "execute_result",
          "data": {
            "text/plain": [
              "(41088, 2)"
            ]
          },
          "metadata": {
            "tags": []
          },
          "execution_count": 90
        }
      ]
    },
    {
      "cell_type": "markdown",
      "metadata": {
        "id": "iUnp4tFqQUWL",
        "colab_type": "text"
      },
      "source": [
        "2. Applying Random Forest Model with Cross Validation & Hyper Parameters Tuning "
      ]
    },
    {
      "cell_type": "code",
      "metadata": {
        "id": "zMmw0OU3LQUV",
        "colab_type": "code",
        "colab": {}
      },
      "source": [
        "RF_Reg = RandomForestRegressor()"
      ],
      "execution_count": 0,
      "outputs": []
    },
    {
      "cell_type": "code",
      "metadata": {
        "id": "NrwcN3GoMSsC",
        "colab_type": "code",
        "colab": {}
      },
      "source": [
        "RF_param_grid = {\"n_estimators\" : [10, 15],\n",
        "               \"max_depth\" : [5,8],\n",
        "               \"max_features\" : [3, 5],\n",
        "               \"min_samples_leaf\" : [4, 6]}\n",
        "\n",
        "rf_grid = GridSearchCV(RF_Reg, param_grid=RF_param_grid, cv=5)"
      ],
      "execution_count": 0,
      "outputs": []
    },
    {
      "cell_type": "code",
      "metadata": {
        "id": "3dzRzZjIMV4N",
        "colab_type": "code",
        "colab": {
          "base_uri": "https://localhost:8080/",
          "height": 336
        },
        "outputId": "fdda87e6-4018-4015-939a-c87212c96559"
      },
      "source": [
        "rf_grid.fit(X_train, y_train)"
      ],
      "execution_count": 93,
      "outputs": [
        {
          "output_type": "execute_result",
          "data": {
            "text/plain": [
              "GridSearchCV(cv=5, error_score=nan,\n",
              "             estimator=RandomForestRegressor(bootstrap=True, ccp_alpha=0.0,\n",
              "                                             criterion='mse', max_depth=None,\n",
              "                                             max_features='auto',\n",
              "                                             max_leaf_nodes=None,\n",
              "                                             max_samples=None,\n",
              "                                             min_impurity_decrease=0.0,\n",
              "                                             min_impurity_split=None,\n",
              "                                             min_samples_leaf=1,\n",
              "                                             min_samples_split=2,\n",
              "                                             min_weight_fraction_leaf=0.0,\n",
              "                                             n_estimators=100, n_jobs=None,\n",
              "                                             oob_score=False, random_state=None,\n",
              "                                             verbose=0, warm_start=False),\n",
              "             iid='deprecated', n_jobs=None,\n",
              "             param_grid={'max_depth': [5, 8], 'max_features': [3, 5],\n",
              "                         'min_samples_leaf': [4, 6], 'n_estimators': [10, 15]},\n",
              "             pre_dispatch='2*n_jobs', refit=True, return_train_score=False,\n",
              "             scoring=None, verbose=0)"
            ]
          },
          "metadata": {
            "tags": []
          },
          "execution_count": 93
        }
      ]
    },
    {
      "cell_type": "code",
      "metadata": {
        "id": "RncqSrVNMYZm",
        "colab_type": "code",
        "colab": {}
      },
      "source": [
        "train_pred_rfc = rf_grid.predict(X_train)\n",
        "test_pred_rfc = rf_grid.predict(X_test)"
      ],
      "execution_count": 0,
      "outputs": []
    },
    {
      "cell_type": "code",
      "metadata": {
        "id": "AuuyD0FSPN-5",
        "colab_type": "code",
        "colab": {}
      },
      "source": [
        "train_set_rmspe_rfc = RMSPE_metrics(y_train, train_pred_rfc)\n",
        "test_set_rmspe_rfc = RMSPE_metrics(y_test, test_pred_rfc)"
      ],
      "execution_count": 0,
      "outputs": []
    },
    {
      "cell_type": "markdown",
      "metadata": {
        "id": "vuVU4xpbQg4E",
        "colab_type": "text"
      },
      "source": [
        "Printing RMSPE values for Training & Validation Data"
      ]
    },
    {
      "cell_type": "code",
      "metadata": {
        "id": "axYrwmXqQa_h",
        "colab_type": "code",
        "colab": {
          "base_uri": "https://localhost:8080/",
          "height": 50
        },
        "outputId": "d6425be1-ddcb-4985-94d0-920a266dfc6d"
      },
      "source": [
        "print(train_set_rmspe_rfc)\n",
        "print(test_set_rmspe_rfc)"
      ],
      "execution_count": 96,
      "outputs": [
        {
          "output_type": "stream",
          "text": [
            "4.207488690113178\n",
            "4.205833584026581\n"
          ],
          "name": "stdout"
        }
      ]
    },
    {
      "cell_type": "markdown",
      "metadata": {
        "id": "uDTXsWdLQo_L",
        "colab_type": "text"
      },
      "source": [
        "Doing Predictions on the Test Data"
      ]
    },
    {
      "cell_type": "code",
      "metadata": {
        "id": "7f6qwS_YpZDz",
        "colab_type": "code",
        "colab": {}
      },
      "source": [
        "TEST_pred_rfc = rf_grid.predict(test_merge)\n",
        "TEST_pred_rfc_inv = np.exp(TEST_pred_rfc)-1"
      ],
      "execution_count": 0,
      "outputs": []
    },
    {
      "cell_type": "code",
      "metadata": {
        "id": "5wHb8n-27Enl",
        "colab_type": "code",
        "colab": {
          "base_uri": "https://localhost:8080/",
          "height": 34
        },
        "outputId": "7fedb521-d946-42e2-9549-a1185a2c1779"
      },
      "source": [
        "DF = pd.DataFrame(list(zip(Test_data['Id'],TEST_pred_rfc_inv)),columns=['Id','Sales'])\n",
        "DF.to_csv(\"RFCPredictions.csv\",index=False)\n",
        "DF.shape"
      ],
      "execution_count": 98,
      "outputs": [
        {
          "output_type": "execute_result",
          "data": {
            "text/plain": [
              "(41088, 2)"
            ]
          },
          "metadata": {
            "tags": []
          },
          "execution_count": 98
        }
      ]
    },
    {
      "cell_type": "markdown",
      "metadata": {
        "id": "zvvckFdyQtwn",
        "colab_type": "text"
      },
      "source": [
        "3. Applying Decision Tree Model with Cross Validation & Hyper Parameters tuning"
      ]
    },
    {
      "cell_type": "code",
      "metadata": {
        "id": "MceqkxpmQil5",
        "colab_type": "code",
        "colab": {}
      },
      "source": [
        "dt = DecisionTreeRegressor()"
      ],
      "execution_count": 0,
      "outputs": []
    },
    {
      "cell_type": "code",
      "metadata": {
        "id": "CPFd4v9Y8eCQ",
        "colab_type": "code",
        "outputId": "e8172d42-db47-472d-b20a-0eb47edc1a66",
        "colab": {
          "base_uri": "https://localhost:8080/",
          "height": 118
        }
      },
      "source": [
        "dt1 = DecisionTreeRegressor()\n",
        "dt1.fit(X_train, y_train)"
      ],
      "execution_count": 100,
      "outputs": [
        {
          "output_type": "execute_result",
          "data": {
            "text/plain": [
              "DecisionTreeRegressor(ccp_alpha=0.0, criterion='mse', max_depth=None,\n",
              "                      max_features=None, max_leaf_nodes=None,\n",
              "                      min_impurity_decrease=0.0, min_impurity_split=None,\n",
              "                      min_samples_leaf=1, min_samples_split=2,\n",
              "                      min_weight_fraction_leaf=0.0, presort='deprecated',\n",
              "                      random_state=None, splitter='best')"
            ]
          },
          "metadata": {
            "tags": []
          },
          "execution_count": 100
        }
      ]
    },
    {
      "cell_type": "markdown",
      "metadata": {
        "id": "Cjy8u9y4Q2YQ",
        "colab_type": "text"
      },
      "source": [
        "Checking the Features Importance"
      ]
    },
    {
      "cell_type": "code",
      "metadata": {
        "id": "J4Ac-1LC8kGi",
        "colab_type": "code",
        "outputId": "cfb0c62d-2994-4457-8b07-a5fabcd621d6",
        "colab": {
          "base_uri": "https://localhost:8080/",
          "height": 302
        }
      },
      "source": [
        "dt1.feature_importances_"
      ],
      "execution_count": 101,
      "outputs": [
        {
          "output_type": "execute_result",
          "data": {
            "text/plain": [
              "array([4.94344622e-03, 1.62278318e-04, 1.43210730e-04, 1.26048864e-04,\n",
              "       1.61686628e-04, 2.42097038e-04, 9.68125961e-05, 2.49310375e-04,\n",
              "       1.78351392e-04, 6.54509964e-05, 6.05758510e-05, 5.95213966e-05,\n",
              "       5.92935626e-05, 4.82117495e-05, 6.06817930e-05, 5.38460523e-05,\n",
              "       5.29162804e-05, 5.45496525e-05, 4.59212296e-05, 1.62440469e-04,\n",
              "       9.87130265e-01, 2.25368185e-03, 1.42469114e-05, 6.10703748e-06,\n",
              "       1.27252586e-06, 1.88543000e-04, 2.59037887e-04, 3.22041239e-04,\n",
              "       3.34153802e-04, 1.21166355e-05, 2.66951127e-04, 1.71669937e-04,\n",
              "       9.05192642e-05, 2.92746315e-05, 1.06543851e-07, 2.40783923e-05,\n",
              "       8.59131561e-05, 6.17641989e-05, 1.19670640e-04, 3.54852905e-05,\n",
              "       1.75872703e-05, 4.94253669e-06, 3.15006697e-07, 3.32622504e-05,\n",
              "       1.42202710e-06, 6.81078828e-05, 2.13604899e-05, 3.16381870e-06,\n",
              "       3.64596890e-05, 9.23201033e-06, 1.37997605e-04, 7.92534841e-07,\n",
              "       3.65516757e-05, 2.77399377e-05, 5.84742979e-08, 1.14127907e-06,\n",
              "       7.48779419e-05, 4.55440731e-05, 8.59920537e-05, 1.21810041e-04,\n",
              "       3.03104221e-04, 1.44531037e-04, 8.77592886e-06, 5.64980448e-05,\n",
              "       1.44314151e-04, 1.80867375e-04])"
            ]
          },
          "metadata": {
            "tags": []
          },
          "execution_count": 101
        }
      ]
    },
    {
      "cell_type": "code",
      "metadata": {
        "id": "OJOAFlgj8pnU",
        "colab_type": "code",
        "outputId": "8e289f39-64ca-470a-ea0a-073119f407f6",
        "colab": {
          "base_uri": "https://localhost:8080/",
          "height": 143
        }
      },
      "source": [
        "features = X_train.columns\n",
        "importances = dt1.feature_importances_\n",
        "indices = np.argsort(importances)[::-1]\n",
        "pd.DataFrame([X_train.columns[indices],np.sort(importances)[::-1]])"
      ],
      "execution_count": 102,
      "outputs": [
        {
          "output_type": "execute_result",
          "data": {
            "text/html": [
              "<div>\n",
              "<style scoped>\n",
              "    .dataframe tbody tr th:only-of-type {\n",
              "        vertical-align: middle;\n",
              "    }\n",
              "\n",
              "    .dataframe tbody tr th {\n",
              "        vertical-align: top;\n",
              "    }\n",
              "\n",
              "    .dataframe thead th {\n",
              "        text-align: right;\n",
              "    }\n",
              "</style>\n",
              "<table border=\"1\" class=\"dataframe\">\n",
              "  <thead>\n",
              "    <tr style=\"text-align: right;\">\n",
              "      <th></th>\n",
              "      <th>0</th>\n",
              "      <th>1</th>\n",
              "      <th>2</th>\n",
              "      <th>3</th>\n",
              "      <th>4</th>\n",
              "      <th>5</th>\n",
              "      <th>6</th>\n",
              "      <th>7</th>\n",
              "      <th>8</th>\n",
              "      <th>9</th>\n",
              "      <th>10</th>\n",
              "      <th>11</th>\n",
              "      <th>12</th>\n",
              "      <th>13</th>\n",
              "      <th>14</th>\n",
              "      <th>15</th>\n",
              "      <th>16</th>\n",
              "      <th>17</th>\n",
              "      <th>18</th>\n",
              "      <th>19</th>\n",
              "      <th>20</th>\n",
              "      <th>21</th>\n",
              "      <th>22</th>\n",
              "      <th>23</th>\n",
              "      <th>24</th>\n",
              "      <th>25</th>\n",
              "      <th>26</th>\n",
              "      <th>27</th>\n",
              "      <th>28</th>\n",
              "      <th>29</th>\n",
              "      <th>30</th>\n",
              "      <th>31</th>\n",
              "      <th>32</th>\n",
              "      <th>33</th>\n",
              "      <th>34</th>\n",
              "      <th>35</th>\n",
              "      <th>36</th>\n",
              "      <th>37</th>\n",
              "      <th>38</th>\n",
              "      <th>39</th>\n",
              "      <th>40</th>\n",
              "      <th>41</th>\n",
              "      <th>42</th>\n",
              "      <th>43</th>\n",
              "      <th>44</th>\n",
              "      <th>45</th>\n",
              "      <th>46</th>\n",
              "      <th>47</th>\n",
              "      <th>48</th>\n",
              "      <th>49</th>\n",
              "      <th>50</th>\n",
              "      <th>51</th>\n",
              "      <th>52</th>\n",
              "      <th>53</th>\n",
              "      <th>54</th>\n",
              "      <th>55</th>\n",
              "      <th>56</th>\n",
              "      <th>57</th>\n",
              "      <th>58</th>\n",
              "      <th>59</th>\n",
              "      <th>60</th>\n",
              "      <th>61</th>\n",
              "      <th>62</th>\n",
              "      <th>63</th>\n",
              "      <th>64</th>\n",
              "      <th>65</th>\n",
              "    </tr>\n",
              "  </thead>\n",
              "  <tbody>\n",
              "    <tr>\n",
              "      <th>0</th>\n",
              "      <td>Open_1</td>\n",
              "      <td>CompetitionDistance</td>\n",
              "      <td>Promo_1</td>\n",
              "      <td>StoreType_d</td>\n",
              "      <td>StoreType_c</td>\n",
              "      <td>Promo2SinceYear_2013.0</td>\n",
              "      <td>Assortment_c</td>\n",
              "      <td>StoreType_b</td>\n",
              "      <td>Year_2014</td>\n",
              "      <td>DayOfWeek_6</td>\n",
              "      <td>SchoolHoliday_1</td>\n",
              "      <td>PromoInterval_Mar,Jun,Sept,Dec</td>\n",
              "      <td>Year_2015</td>\n",
              "      <td>Promo2_1</td>\n",
              "      <td>Month_12</td>\n",
              "      <td>DayOfWeek_2</td>\n",
              "      <td>DayOfWeek_5</td>\n",
              "      <td>Promo2SinceYear_2014.0</td>\n",
              "      <td>PromoInterval_Jan,Apr,Jul,Oct</td>\n",
              "      <td>DayOfWeek_3</td>\n",
              "      <td>Promo2SinceWeek_40.0</td>\n",
              "      <td>DayOfWeek_4</td>\n",
              "      <td>Promo2SinceYear_2012.0</td>\n",
              "      <td>Promo2SinceWeek_14.0</td>\n",
              "      <td>DayOfWeek_7</td>\n",
              "      <td>Promo2SinceWeek_1.0</td>\n",
              "      <td>Promo2SinceYear_2011.0</td>\n",
              "      <td>Promo2SinceWeek_10.0</td>\n",
              "      <td>Promo2SinceYear_2009.0</td>\n",
              "      <td>Promo2SinceWeek_31.0</td>\n",
              "      <td>Month_2</td>\n",
              "      <td>Promo2SinceWeek_13.0</td>\n",
              "      <td>Month_7</td>\n",
              "      <td>Month_3</td>\n",
              "      <td>Month_4</td>\n",
              "      <td>Month_5</td>\n",
              "      <td>PromoInterval_Feb,May,Aug,Nov</td>\n",
              "      <td>Month_10</td>\n",
              "      <td>Month_8</td>\n",
              "      <td>Month_9</td>\n",
              "      <td>Month_6</td>\n",
              "      <td>Month_11</td>\n",
              "      <td>Promo2SinceYear_2010.0</td>\n",
              "      <td>Promo2SinceWeek_45.0</td>\n",
              "      <td>Promo2SinceWeek_37.0</td>\n",
              "      <td>Promo2SinceWeek_18.0</td>\n",
              "      <td>Promo2SinceWeek_27.0</td>\n",
              "      <td>Promo2SinceWeek_5.0</td>\n",
              "      <td>Promo2SinceWeek_48.0</td>\n",
              "      <td>Promo2SinceWeek_9.0</td>\n",
              "      <td>Promo2SinceWeek_35.0</td>\n",
              "      <td>Promo2SinceWeek_22.0</td>\n",
              "      <td>StateHoliday_a</td>\n",
              "      <td>Assortment_b</td>\n",
              "      <td>Promo2SinceWeek_39.0</td>\n",
              "      <td>Promo2SinceYear_2015.0</td>\n",
              "      <td>StateHoliday_b</td>\n",
              "      <td>Promo2SinceWeek_23.0</td>\n",
              "      <td>Promo2SinceWeek_36.0</td>\n",
              "      <td>Promo2SinceWeek_28.0</td>\n",
              "      <td>StateHoliday_c</td>\n",
              "      <td>Promo2SinceWeek_50.0</td>\n",
              "      <td>Promo2SinceWeek_44.0</td>\n",
              "      <td>Promo2SinceWeek_26.0</td>\n",
              "      <td>Promo2SinceWeek_6.0</td>\n",
              "      <td>Promo2SinceWeek_49.0</td>\n",
              "    </tr>\n",
              "    <tr>\n",
              "      <th>1</th>\n",
              "      <td>0.98713</td>\n",
              "      <td>0.00494345</td>\n",
              "      <td>0.00225368</td>\n",
              "      <td>0.000334154</td>\n",
              "      <td>0.000322041</td>\n",
              "      <td>0.000303104</td>\n",
              "      <td>0.000266951</td>\n",
              "      <td>0.000259038</td>\n",
              "      <td>0.00024931</td>\n",
              "      <td>0.000242097</td>\n",
              "      <td>0.000188543</td>\n",
              "      <td>0.000180867</td>\n",
              "      <td>0.000178351</td>\n",
              "      <td>0.00017167</td>\n",
              "      <td>0.00016244</td>\n",
              "      <td>0.000162278</td>\n",
              "      <td>0.000161687</td>\n",
              "      <td>0.000144531</td>\n",
              "      <td>0.000144314</td>\n",
              "      <td>0.000143211</td>\n",
              "      <td>0.000137998</td>\n",
              "      <td>0.000126049</td>\n",
              "      <td>0.00012181</td>\n",
              "      <td>0.000119671</td>\n",
              "      <td>9.68126e-05</td>\n",
              "      <td>9.05193e-05</td>\n",
              "      <td>8.59921e-05</td>\n",
              "      <td>8.59132e-05</td>\n",
              "      <td>7.48779e-05</td>\n",
              "      <td>6.81079e-05</td>\n",
              "      <td>6.5451e-05</td>\n",
              "      <td>6.17642e-05</td>\n",
              "      <td>6.06818e-05</td>\n",
              "      <td>6.05759e-05</td>\n",
              "      <td>5.95214e-05</td>\n",
              "      <td>5.92936e-05</td>\n",
              "      <td>5.6498e-05</td>\n",
              "      <td>5.45497e-05</td>\n",
              "      <td>5.38461e-05</td>\n",
              "      <td>5.29163e-05</td>\n",
              "      <td>4.82117e-05</td>\n",
              "      <td>4.59212e-05</td>\n",
              "      <td>4.55441e-05</td>\n",
              "      <td>3.65517e-05</td>\n",
              "      <td>3.64597e-05</td>\n",
              "      <td>3.54853e-05</td>\n",
              "      <td>3.32623e-05</td>\n",
              "      <td>2.92746e-05</td>\n",
              "      <td>2.77399e-05</td>\n",
              "      <td>2.40784e-05</td>\n",
              "      <td>2.13605e-05</td>\n",
              "      <td>1.75873e-05</td>\n",
              "      <td>1.42469e-05</td>\n",
              "      <td>1.21166e-05</td>\n",
              "      <td>9.23201e-06</td>\n",
              "      <td>8.77593e-06</td>\n",
              "      <td>6.10704e-06</td>\n",
              "      <td>4.94254e-06</td>\n",
              "      <td>3.16382e-06</td>\n",
              "      <td>1.42203e-06</td>\n",
              "      <td>1.27253e-06</td>\n",
              "      <td>1.14128e-06</td>\n",
              "      <td>7.92535e-07</td>\n",
              "      <td>3.15007e-07</td>\n",
              "      <td>1.06544e-07</td>\n",
              "      <td>5.84743e-08</td>\n",
              "    </tr>\n",
              "  </tbody>\n",
              "</table>\n",
              "</div>"
            ],
            "text/plain": [
              "        0                    1   ...                   64                    65\n",
              "0   Open_1  CompetitionDistance  ...  Promo2SinceWeek_6.0  Promo2SinceWeek_49.0\n",
              "1  0.98713           0.00494345  ...          1.06544e-07           5.84743e-08\n",
              "\n",
              "[2 rows x 66 columns]"
            ]
          },
          "metadata": {
            "tags": []
          },
          "execution_count": 102
        }
      ]
    },
    {
      "cell_type": "code",
      "metadata": {
        "id": "YVos706pSs1X",
        "colab_type": "code",
        "colab": {}
      },
      "source": [
        "dt_param_grid = {\"criterion\": ['mse'],\n",
        "              \"min_samples_split\": [10, 20],\n",
        "              \"max_depth\": [None, 5, 10,20],\n",
        "              \"min_samples_leaf\": [5, 10],\n",
        "              \"max_leaf_nodes\": [10, 20],\n",
        "              }"
      ],
      "execution_count": 0,
      "outputs": []
    },
    {
      "cell_type": "code",
      "metadata": {
        "id": "1FK4PhgrTq3W",
        "colab_type": "code",
        "colab": {}
      },
      "source": [
        "dt_grid = GridSearchCV(dt, param_grid=dt_param_grid, cv=5)"
      ],
      "execution_count": 0,
      "outputs": []
    },
    {
      "cell_type": "code",
      "metadata": {
        "id": "EoweODdCT1R5",
        "colab_type": "code",
        "outputId": "2c62bbbe-ec5c-4ae5-9801-f8aefea70f3c",
        "colab": {
          "base_uri": "https://localhost:8080/",
          "height": 336
        }
      },
      "source": [
        "dt_grid.fit(X_train, y_train)"
      ],
      "execution_count": 105,
      "outputs": [
        {
          "output_type": "execute_result",
          "data": {
            "text/plain": [
              "GridSearchCV(cv=5, error_score=nan,\n",
              "             estimator=DecisionTreeRegressor(ccp_alpha=0.0, criterion='mse',\n",
              "                                             max_depth=None, max_features=None,\n",
              "                                             max_leaf_nodes=None,\n",
              "                                             min_impurity_decrease=0.0,\n",
              "                                             min_impurity_split=None,\n",
              "                                             min_samples_leaf=1,\n",
              "                                             min_samples_split=2,\n",
              "                                             min_weight_fraction_leaf=0.0,\n",
              "                                             presort='deprecated',\n",
              "                                             random_state=None,\n",
              "                                             splitter='best'),\n",
              "             iid='deprecated', n_jobs=None,\n",
              "             param_grid={'criterion': ['mse'], 'max_depth': [None, 5, 10, 20],\n",
              "                         'max_leaf_nodes': [10, 20],\n",
              "                         'min_samples_leaf': [5, 10],\n",
              "                         'min_samples_split': [10, 20]},\n",
              "             pre_dispatch='2*n_jobs', refit=True, return_train_score=False,\n",
              "             scoring=None, verbose=0)"
            ]
          },
          "metadata": {
            "tags": []
          },
          "execution_count": 105
        }
      ]
    },
    {
      "cell_type": "code",
      "metadata": {
        "id": "u1vWQs42T4pj",
        "colab_type": "code",
        "colab": {}
      },
      "source": [
        "train_pred_dt = dt_grid.predict(X_train)\n",
        "test_pred_dt = dt_grid.predict(X_test)"
      ],
      "execution_count": 0,
      "outputs": []
    },
    {
      "cell_type": "code",
      "metadata": {
        "id": "Mnwl4lUve1GD",
        "colab_type": "code",
        "colab": {}
      },
      "source": [
        "train_set_rmspe_dt = RMSPE_metrics(y_train, train_pred_dt)\n",
        "test_set_rmspe_dt = RMSPE_metrics(y_test, test_pred_dt)"
      ],
      "execution_count": 0,
      "outputs": []
    },
    {
      "cell_type": "markdown",
      "metadata": {
        "id": "v5Q5pbZJQ_Q_",
        "colab_type": "text"
      },
      "source": [
        "Printing RMSPE values for Train & Validation data "
      ]
    },
    {
      "cell_type": "code",
      "metadata": {
        "id": "qeTc522ng8dG",
        "colab_type": "code",
        "outputId": "1538040f-41d5-4468-ca44-8c73eaeee78f",
        "colab": {
          "base_uri": "https://localhost:8080/",
          "height": 50
        }
      },
      "source": [
        "print(train_set_rmspe_dt)\n",
        "print(test_set_rmspe_dt)"
      ],
      "execution_count": 108,
      "outputs": [
        {
          "output_type": "stream",
          "text": [
            "0.42717065878581423\n",
            "0.42723656183237013\n"
          ],
          "name": "stdout"
        }
      ]
    },
    {
      "cell_type": "markdown",
      "metadata": {
        "id": "gEG4gdYrRI4c",
        "colab_type": "text"
      },
      "source": [
        "Doing Predictions on the Test Data"
      ]
    },
    {
      "cell_type": "code",
      "metadata": {
        "id": "9G6blnqEpswj",
        "colab_type": "code",
        "colab": {}
      },
      "source": [
        "TEST_pred_dt = dt_grid.predict(test_merge)\n",
        "TEST_pred_dt_inv = np.exp(TEST_pred_dt)-1"
      ],
      "execution_count": 0,
      "outputs": []
    },
    {
      "cell_type": "code",
      "metadata": {
        "id": "YV_EBikn7Y9Q",
        "colab_type": "code",
        "colab": {
          "base_uri": "https://localhost:8080/",
          "height": 34
        },
        "outputId": "8700ea9e-15d4-4e5c-8535-61730efee9dc"
      },
      "source": [
        "DF = pd.DataFrame(list(zip(Test_data['Id'],TEST_pred_dt_inv)),columns=['Id','Sales'])\n",
        "DF.to_csv(\"DTPredictions.csv\",index=False)\n",
        "DF.shape"
      ],
      "execution_count": 110,
      "outputs": [
        {
          "output_type": "execute_result",
          "data": {
            "text/plain": [
              "(41088, 2)"
            ]
          },
          "metadata": {
            "tags": []
          },
          "execution_count": 110
        }
      ]
    }
  ]
}